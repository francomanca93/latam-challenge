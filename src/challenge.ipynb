{
 "cells": [
  {
   "cell_type": "markdown",
   "metadata": {},
   "source": [
    "En este archivo puedes escribir lo que estimes conveniente. Te recomendamos detallar tu solución y todas las suposiciones que estás considerando. Aquí puedes ejecutar las funciones que definiste en los otros archivos de la carpeta src, medir el tiempo, memoria, etc."
   ]
  },
  {
   "cell_type": "code",
   "execution_count": 1,
   "metadata": {},
   "outputs": [],
   "source": [
    "from rich import print\n",
    "\n",
    "file_path = \"../farmers-protest-tweets-2021-2-4.json\""
   ]
  },
  {
   "cell_type": "markdown",
   "metadata": {},
   "source": [
    "He decidido medir el tiempo y la memoria en ambos ejecicios de optimizacion. esto me ha permitido visualizar el trade-off que estoy ejerciendo por una metodologia u otra.\n",
    "\n",
    "En casos generales he observado que si me enfoco en optimizar el tiempo aumenta el consumo de memoria y en el caso contrario si me enfoco en reducir el consumo de memoria aumenta el tiempo de procesamiento.\n",
    "\n",
    "Algunas consideraciones generales que he tenido en cuenta:\n",
    "\n",
    "### Justificación de DuckDB para optimización por tiempo\n",
    "- **Procesamiento en memoria**: DuckDB opera en memoria (OLAP) y acelera consultas por el tipo de procesamiento.\n",
    "- **SQL optimizado**: Ejecuta consultas con optimizaciones automáticas.\n",
    "- **Formatos directos**: Lee/Analiza archivos (CSV, Parquet, JSON) sin ingestión previa, reduciendo pasos intermedios.\n",
    "- **Escalabilidad vertical**: Aprovecha todos los núcleos del CPU para operaciones paralelas.\n",
    "- **Caché automático**: Almacena resultados intermedios para reutilización en consultas recurrentes.\n",
    "\n",
    "\n",
    "### Justificación de estructuras nativas y librerías para optimización por memoria\n",
    "- **Generadores de Python**: Procesan datos en flujo (yield), cargando solo lo necesario en memoria.\n",
    "- **defaultdict**: Reduce memoria al evitar verificaciones de clave existente.\n",
    "- **Counter**: Optimiza conteos frecuentes con hash tables internas, minimizando uso de memoria frente a alternativas manuales.\n",
    "- **ujson**: Serializa/deserializa JSON más rápido que json estándar. Esta escrito en C.\n",
    "\n",
    "------\n",
    "\n",
    "DuckDB prioriza velocidad, mientras que las estructuras nativas y generadores sacrifican velocidad por un perfil de memoria ajustado.\n",
    "\n",
    "En el caso de la medicion de memoria a fondo con profile he decidido no utilizarlo para no mostrar en los logs ese analisis, pero se puede ir por este lado utilizando el decorador `@profile` importandolo con `from memory_profiler import profile`"
   ]
  },
  {
   "cell_type": "markdown",
   "metadata": {},
   "source": [
    "# Q1"
   ]
  },
  {
   "cell_type": "markdown",
   "metadata": {},
   "source": [
    "## Time"
   ]
  },
  {
   "cell_type": "code",
   "execution_count": 2,
   "metadata": {},
   "outputs": [],
   "source": [
    "from q1_time import q1_time"
   ]
  },
  {
   "cell_type": "code",
   "execution_count": 3,
   "metadata": {},
   "outputs": [
    {
     "data": {
      "text/html": [
       "<pre style=\"white-space:pre;overflow-x:auto;line-height:normal;font-family:Menlo,'DejaVu Sans Mono',consolas,'Courier New',monospace\"><span style=\"font-style: italic\">           📊 </span><span style=\"font-weight: bold; font-style: italic\">Métricas de Tiempo</span><span style=\"font-style: italic\">            </span>\n",
       "┏━━━━━━━━━━━━━━━━━━━━━━━━┳━━━━━━━━━━━━━━━━━┓\n",
       "┃<span style=\"color: #800080; text-decoration-color: #800080; font-weight: bold\"> Fase                   </span>┃<span style=\"color: #800080; text-decoration-color: #800080; font-weight: bold\">        Duración </span>┃\n",
       "┡━━━━━━━━━━━━━━━━━━━━━━━━╇━━━━━━━━━━━━━━━━━┩\n",
       "│<span style=\"color: #008080; text-decoration-color: #008080\"> Conexión y preparación </span>│ 2.0903 segundos │\n",
       "│<span style=\"color: #008080; text-decoration-color: #008080\"> Lectura del archivo    </span>│ 2.2317 segundos │\n",
       "│<span style=\"color: #008080; text-decoration-color: #008080\"> Análisis y consulta    </span>│ 0.0564 segundos │\n",
       "│<span style=\"color: #008080; text-decoration-color: #008080\"> </span><span style=\"color: #008080; text-decoration-color: #008080; font-weight: bold\">TOTAL</span><span style=\"color: #008080; text-decoration-color: #008080\">                  </span>│ <span style=\"font-weight: bold\">6.5358 segundos</span> │\n",
       "└────────────────────────┴─────────────────┘\n",
       "</pre>\n"
      ],
      "text/plain": [
       "\u001b[3m           📊 \u001b[0m\u001b[1;3mMétricas de Tiempo\u001b[0m\u001b[3m            \u001b[0m\n",
       "┏━━━━━━━━━━━━━━━━━━━━━━━━┳━━━━━━━━━━━━━━━━━┓\n",
       "┃\u001b[1;35m \u001b[0m\u001b[1;35mFase                  \u001b[0m\u001b[1;35m \u001b[0m┃\u001b[1;35m \u001b[0m\u001b[1;35m       Duración\u001b[0m\u001b[1;35m \u001b[0m┃\n",
       "┡━━━━━━━━━━━━━━━━━━━━━━━━╇━━━━━━━━━━━━━━━━━┩\n",
       "│\u001b[36m \u001b[0m\u001b[36mConexión y preparación\u001b[0m\u001b[36m \u001b[0m│ 2.0903 segundos │\n",
       "│\u001b[36m \u001b[0m\u001b[36mLectura del archivo   \u001b[0m\u001b[36m \u001b[0m│ 2.2317 segundos │\n",
       "│\u001b[36m \u001b[0m\u001b[36mAnálisis y consulta   \u001b[0m\u001b[36m \u001b[0m│ 0.0564 segundos │\n",
       "│\u001b[36m \u001b[0m\u001b[1;36mTOTAL\u001b[0m\u001b[36m                 \u001b[0m\u001b[36m \u001b[0m│ \u001b[1m6.5358 segundos\u001b[0m │\n",
       "└────────────────────────┴─────────────────┘\n"
      ]
     },
     "metadata": {},
     "output_type": "display_data"
    },
    {
     "data": {
      "text/html": [
       "<pre style=\"white-space:pre;overflow-x:auto;line-height:normal;font-family:Menlo,'DejaVu Sans Mono',consolas,'Courier New',monospace\"><span style=\"font-style: italic\">       💾 </span><span style=\"font-weight: bold; font-style: italic\">Métricas de Memoria (MB)</span><span style=\"font-style: italic\">        </span>\n",
       "┏━━━━━━━━━━━━━━━━━━━━━┳━━━━━━━━┳━━━━━━━━━┓\n",
       "┃<span style=\"color: #000080; text-decoration-color: #000080; font-weight: bold\"> Fase                </span>┃<span style=\"color: #000080; text-decoration-color: #000080; font-weight: bold\">  Valor </span>┃<span style=\"color: #000080; text-decoration-color: #000080; font-weight: bold\">       Δ </span>┃\n",
       "┡━━━━━━━━━━━━━━━━━━━━━╇━━━━━━━━╇━━━━━━━━━┩\n",
       "│<span style=\"color: #008080; text-decoration-color: #008080\"> Memoria base        </span>│  73.39 │         │\n",
       "│<span style=\"color: #008080; text-decoration-color: #008080\"> Después de conexión </span>│  79.81 │   <span style=\"color: #008000; text-decoration-color: #008000\">+6.42</span> │\n",
       "│<span style=\"color: #008080; text-decoration-color: #008080\"> Después de lectura  </span>│ 553.48 │ <span style=\"color: #008000; text-decoration-color: #008000\">+473.67</span> │\n",
       "│<span style=\"color: #008080; text-decoration-color: #008080\"> Después de consulta </span>│ 550.17 │   <span style=\"color: #800000; text-decoration-color: #800000\">-3.32</span> │\n",
       "│<span style=\"color: #008080; text-decoration-color: #008080\"> </span><span style=\"color: #008080; text-decoration-color: #008080; font-weight: bold\">Consumo máximo</span><span style=\"color: #008080; text-decoration-color: #008080\">      </span>│ <span style=\"font-weight: bold\">553.48</span> │         │\n",
       "└─────────────────────┴────────┴─────────┘\n",
       "</pre>\n"
      ],
      "text/plain": [
       "\u001b[3m       💾 \u001b[0m\u001b[1;3mMétricas de Memoria (MB)\u001b[0m\u001b[3m        \u001b[0m\n",
       "┏━━━━━━━━━━━━━━━━━━━━━┳━━━━━━━━┳━━━━━━━━━┓\n",
       "┃\u001b[1;34m \u001b[0m\u001b[1;34mFase               \u001b[0m\u001b[1;34m \u001b[0m┃\u001b[1;34m \u001b[0m\u001b[1;34m Valor\u001b[0m\u001b[1;34m \u001b[0m┃\u001b[1;34m \u001b[0m\u001b[1;34m      Δ\u001b[0m\u001b[1;34m \u001b[0m┃\n",
       "┡━━━━━━━━━━━━━━━━━━━━━╇━━━━━━━━╇━━━━━━━━━┩\n",
       "│\u001b[36m \u001b[0m\u001b[36mMemoria base       \u001b[0m\u001b[36m \u001b[0m│  73.39 │         │\n",
       "│\u001b[36m \u001b[0m\u001b[36mDespués de conexión\u001b[0m\u001b[36m \u001b[0m│  79.81 │   \u001b[32m+6.42\u001b[0m │\n",
       "│\u001b[36m \u001b[0m\u001b[36mDespués de lectura \u001b[0m\u001b[36m \u001b[0m│ 553.48 │ \u001b[32m+473.67\u001b[0m │\n",
       "│\u001b[36m \u001b[0m\u001b[36mDespués de consulta\u001b[0m\u001b[36m \u001b[0m│ 550.17 │   \u001b[31m-3.32\u001b[0m │\n",
       "│\u001b[36m \u001b[0m\u001b[1;36mConsumo máximo\u001b[0m\u001b[36m     \u001b[0m\u001b[36m \u001b[0m│ \u001b[1m553.48\u001b[0m │         │\n",
       "└─────────────────────┴────────┴─────────┘\n"
      ]
     },
     "metadata": {},
     "output_type": "display_data"
    },
    {
     "data": {
      "text/html": [
       "<pre style=\"white-space:pre;overflow-x:auto;line-height:normal;font-family:Menlo,'DejaVu Sans Mono',consolas,'Courier New',monospace\">\n",
       "RESULTADOS TIEMPO:\n",
       "</pre>\n"
      ],
      "text/plain": [
       "\n",
       "RESULTADOS TIEMPO:\n"
      ]
     },
     "metadata": {},
     "output_type": "display_data"
    },
    {
     "data": {
      "text/html": [
       "<pre style=\"white-space:pre;overflow-x:auto;line-height:normal;font-family:Menlo,'DejaVu Sans Mono',consolas,'Courier New',monospace\"><span style=\"font-weight: bold\">[</span>\n",
       "    <span style=\"font-weight: bold\">(</span><span style=\"color: #800080; text-decoration-color: #800080; font-weight: bold\">datetime.date</span><span style=\"font-weight: bold\">(</span><span style=\"color: #008080; text-decoration-color: #008080; font-weight: bold\">2021</span>, <span style=\"color: #008080; text-decoration-color: #008080; font-weight: bold\">2</span>, <span style=\"color: #008080; text-decoration-color: #008080; font-weight: bold\">12</span><span style=\"font-weight: bold\">)</span>, <span style=\"color: #008000; text-decoration-color: #008000\">'RanbirS00614606'</span><span style=\"font-weight: bold\">)</span>,\n",
       "    <span style=\"font-weight: bold\">(</span><span style=\"color: #800080; text-decoration-color: #800080; font-weight: bold\">datetime.date</span><span style=\"font-weight: bold\">(</span><span style=\"color: #008080; text-decoration-color: #008080; font-weight: bold\">2021</span>, <span style=\"color: #008080; text-decoration-color: #008080; font-weight: bold\">2</span>, <span style=\"color: #008080; text-decoration-color: #008080; font-weight: bold\">13</span><span style=\"font-weight: bold\">)</span>, <span style=\"color: #008000; text-decoration-color: #008000\">'MaanDee08215437'</span><span style=\"font-weight: bold\">)</span>,\n",
       "    <span style=\"font-weight: bold\">(</span><span style=\"color: #800080; text-decoration-color: #800080; font-weight: bold\">datetime.date</span><span style=\"font-weight: bold\">(</span><span style=\"color: #008080; text-decoration-color: #008080; font-weight: bold\">2021</span>, <span style=\"color: #008080; text-decoration-color: #008080; font-weight: bold\">2</span>, <span style=\"color: #008080; text-decoration-color: #008080; font-weight: bold\">17</span><span style=\"font-weight: bold\">)</span>, <span style=\"color: #008000; text-decoration-color: #008000\">'RaaJVinderkaur'</span><span style=\"font-weight: bold\">)</span>,\n",
       "    <span style=\"font-weight: bold\">(</span><span style=\"color: #800080; text-decoration-color: #800080; font-weight: bold\">datetime.date</span><span style=\"font-weight: bold\">(</span><span style=\"color: #008080; text-decoration-color: #008080; font-weight: bold\">2021</span>, <span style=\"color: #008080; text-decoration-color: #008080; font-weight: bold\">2</span>, <span style=\"color: #008080; text-decoration-color: #008080; font-weight: bold\">16</span><span style=\"font-weight: bold\">)</span>, <span style=\"color: #008000; text-decoration-color: #008000\">'jot__b'</span><span style=\"font-weight: bold\">)</span>,\n",
       "    <span style=\"font-weight: bold\">(</span><span style=\"color: #800080; text-decoration-color: #800080; font-weight: bold\">datetime.date</span><span style=\"font-weight: bold\">(</span><span style=\"color: #008080; text-decoration-color: #008080; font-weight: bold\">2021</span>, <span style=\"color: #008080; text-decoration-color: #008080; font-weight: bold\">2</span>, <span style=\"color: #008080; text-decoration-color: #008080; font-weight: bold\">14</span><span style=\"font-weight: bold\">)</span>, <span style=\"color: #008000; text-decoration-color: #008000\">'rebelpacifist'</span><span style=\"font-weight: bold\">)</span>,\n",
       "    <span style=\"font-weight: bold\">(</span><span style=\"color: #800080; text-decoration-color: #800080; font-weight: bold\">datetime.date</span><span style=\"font-weight: bold\">(</span><span style=\"color: #008080; text-decoration-color: #008080; font-weight: bold\">2021</span>, <span style=\"color: #008080; text-decoration-color: #008080; font-weight: bold\">2</span>, <span style=\"color: #008080; text-decoration-color: #008080; font-weight: bold\">18</span><span style=\"font-weight: bold\">)</span>, <span style=\"color: #008000; text-decoration-color: #008000\">'neetuanjle_nitu'</span><span style=\"font-weight: bold\">)</span>,\n",
       "    <span style=\"font-weight: bold\">(</span><span style=\"color: #800080; text-decoration-color: #800080; font-weight: bold\">datetime.date</span><span style=\"font-weight: bold\">(</span><span style=\"color: #008080; text-decoration-color: #008080; font-weight: bold\">2021</span>, <span style=\"color: #008080; text-decoration-color: #008080; font-weight: bold\">2</span>, <span style=\"color: #008080; text-decoration-color: #008080; font-weight: bold\">15</span><span style=\"font-weight: bold\">)</span>, <span style=\"color: #008000; text-decoration-color: #008000\">'jot__b'</span><span style=\"font-weight: bold\">)</span>,\n",
       "    <span style=\"font-weight: bold\">(</span><span style=\"color: #800080; text-decoration-color: #800080; font-weight: bold\">datetime.date</span><span style=\"font-weight: bold\">(</span><span style=\"color: #008080; text-decoration-color: #008080; font-weight: bold\">2021</span>, <span style=\"color: #008080; text-decoration-color: #008080; font-weight: bold\">2</span>, <span style=\"color: #008080; text-decoration-color: #008080; font-weight: bold\">20</span><span style=\"font-weight: bold\">)</span>, <span style=\"color: #008000; text-decoration-color: #008000\">'MangalJ23056160'</span><span style=\"font-weight: bold\">)</span>,\n",
       "    <span style=\"font-weight: bold\">(</span><span style=\"color: #800080; text-decoration-color: #800080; font-weight: bold\">datetime.date</span><span style=\"font-weight: bold\">(</span><span style=\"color: #008080; text-decoration-color: #008080; font-weight: bold\">2021</span>, <span style=\"color: #008080; text-decoration-color: #008080; font-weight: bold\">2</span>, <span style=\"color: #008080; text-decoration-color: #008080; font-weight: bold\">23</span><span style=\"font-weight: bold\">)</span>, <span style=\"color: #008000; text-decoration-color: #008000\">'Surrypuria'</span><span style=\"font-weight: bold\">)</span>,\n",
       "    <span style=\"font-weight: bold\">(</span><span style=\"color: #800080; text-decoration-color: #800080; font-weight: bold\">datetime.date</span><span style=\"font-weight: bold\">(</span><span style=\"color: #008080; text-decoration-color: #008080; font-weight: bold\">2021</span>, <span style=\"color: #008080; text-decoration-color: #008080; font-weight: bold\">2</span>, <span style=\"color: #008080; text-decoration-color: #008080; font-weight: bold\">19</span><span style=\"font-weight: bold\">)</span>, <span style=\"color: #008000; text-decoration-color: #008000\">'Preetm91'</span><span style=\"font-weight: bold\">)</span>\n",
       "<span style=\"font-weight: bold\">]</span>\n",
       "</pre>\n"
      ],
      "text/plain": [
       "\u001b[1m[\u001b[0m\n",
       "    \u001b[1m(\u001b[0m\u001b[1;35mdatetime.date\u001b[0m\u001b[1m(\u001b[0m\u001b[1;36m2021\u001b[0m, \u001b[1;36m2\u001b[0m, \u001b[1;36m12\u001b[0m\u001b[1m)\u001b[0m, \u001b[32m'RanbirS00614606'\u001b[0m\u001b[1m)\u001b[0m,\n",
       "    \u001b[1m(\u001b[0m\u001b[1;35mdatetime.date\u001b[0m\u001b[1m(\u001b[0m\u001b[1;36m2021\u001b[0m, \u001b[1;36m2\u001b[0m, \u001b[1;36m13\u001b[0m\u001b[1m)\u001b[0m, \u001b[32m'MaanDee08215437'\u001b[0m\u001b[1m)\u001b[0m,\n",
       "    \u001b[1m(\u001b[0m\u001b[1;35mdatetime.date\u001b[0m\u001b[1m(\u001b[0m\u001b[1;36m2021\u001b[0m, \u001b[1;36m2\u001b[0m, \u001b[1;36m17\u001b[0m\u001b[1m)\u001b[0m, \u001b[32m'RaaJVinderkaur'\u001b[0m\u001b[1m)\u001b[0m,\n",
       "    \u001b[1m(\u001b[0m\u001b[1;35mdatetime.date\u001b[0m\u001b[1m(\u001b[0m\u001b[1;36m2021\u001b[0m, \u001b[1;36m2\u001b[0m, \u001b[1;36m16\u001b[0m\u001b[1m)\u001b[0m, \u001b[32m'jot__b'\u001b[0m\u001b[1m)\u001b[0m,\n",
       "    \u001b[1m(\u001b[0m\u001b[1;35mdatetime.date\u001b[0m\u001b[1m(\u001b[0m\u001b[1;36m2021\u001b[0m, \u001b[1;36m2\u001b[0m, \u001b[1;36m14\u001b[0m\u001b[1m)\u001b[0m, \u001b[32m'rebelpacifist'\u001b[0m\u001b[1m)\u001b[0m,\n",
       "    \u001b[1m(\u001b[0m\u001b[1;35mdatetime.date\u001b[0m\u001b[1m(\u001b[0m\u001b[1;36m2021\u001b[0m, \u001b[1;36m2\u001b[0m, \u001b[1;36m18\u001b[0m\u001b[1m)\u001b[0m, \u001b[32m'neetuanjle_nitu'\u001b[0m\u001b[1m)\u001b[0m,\n",
       "    \u001b[1m(\u001b[0m\u001b[1;35mdatetime.date\u001b[0m\u001b[1m(\u001b[0m\u001b[1;36m2021\u001b[0m, \u001b[1;36m2\u001b[0m, \u001b[1;36m15\u001b[0m\u001b[1m)\u001b[0m, \u001b[32m'jot__b'\u001b[0m\u001b[1m)\u001b[0m,\n",
       "    \u001b[1m(\u001b[0m\u001b[1;35mdatetime.date\u001b[0m\u001b[1m(\u001b[0m\u001b[1;36m2021\u001b[0m, \u001b[1;36m2\u001b[0m, \u001b[1;36m20\u001b[0m\u001b[1m)\u001b[0m, \u001b[32m'MangalJ23056160'\u001b[0m\u001b[1m)\u001b[0m,\n",
       "    \u001b[1m(\u001b[0m\u001b[1;35mdatetime.date\u001b[0m\u001b[1m(\u001b[0m\u001b[1;36m2021\u001b[0m, \u001b[1;36m2\u001b[0m, \u001b[1;36m23\u001b[0m\u001b[1m)\u001b[0m, \u001b[32m'Surrypuria'\u001b[0m\u001b[1m)\u001b[0m,\n",
       "    \u001b[1m(\u001b[0m\u001b[1;35mdatetime.date\u001b[0m\u001b[1m(\u001b[0m\u001b[1;36m2021\u001b[0m, \u001b[1;36m2\u001b[0m, \u001b[1;36m19\u001b[0m\u001b[1m)\u001b[0m, \u001b[32m'Preetm91'\u001b[0m\u001b[1m)\u001b[0m\n",
       "\u001b[1m]\u001b[0m\n"
      ]
     },
     "metadata": {},
     "output_type": "display_data"
    }
   ],
   "source": [
    "# Ejecutar la función\n",
    "resultados = q1_time(file_path)\n",
    "\n",
    "# Mostrar resultados\n",
    "print(\"\\nRESULTADOS TIEMPO:\")\n",
    "print(resultados)"
   ]
  },
  {
   "cell_type": "markdown",
   "metadata": {},
   "source": [
    "> Nota: Al utilizar jupyter notebook para ejecutar estos scripts he visto que el uso de tiempo y memoria puede verse afectado. Es interesante lanzar el script de manera individual sin levantar el kernel de jupyter notebook.\n",
    "\n",
    "Resultado al ejecutar el script por fuera del notebook:\n",
    "\n",
    "```sh\n",
    "\n",
    "           📊 Métricas de Tiempo            \n",
    "┏━━━━━━━━━━━━━━━━━━━━━━━━┳━━━━━━━━━━━━━━━━━┓\n",
    "┃ Fase                   ┃        Duración ┃\n",
    "┡━━━━━━━━━━━━━━━━━━━━━━━━╇━━━━━━━━━━━━━━━━━┩\n",
    "│ Conexión y preparación │ 2.0970 segundos │\n",
    "│ Lectura del archivo    │ 2.1014 segundos │\n",
    "│ Análisis y consulta    │ 0.0391 segundos │\n",
    "│ TOTAL                  │ 6.3936 segundos │\n",
    "└────────────────────────┴─────────────────┘\n",
    "       💾 Métricas de Memoria (MB)        \n",
    "┏━━━━━━━━━━━━━━━━━━━━━┳━━━━━━━━┳━━━━━━━━━┓\n",
    "┃ Fase                ┃  Valor ┃       Δ ┃\n",
    "┡━━━━━━━━━━━━━━━━━━━━━╇━━━━━━━━╇━━━━━━━━━┩\n",
    "│ Memoria base        │  56.13 │         │\n",
    "│ Después de conexión │  63.22 │   +7.09 │\n",
    "│ Después de lectura  │ 554.29 │ +491.07 │\n",
    "│ Después de consulta │ 557.23 │   +2.94 │\n",
    "│ Consumo máximo      │ 557.23 │         │\n",
    "└─────────────────────┴────────┴─────────┘\n",
    "\n",
    "```"
   ]
  },
  {
   "cell_type": "markdown",
   "metadata": {},
   "source": [
    "## Memory"
   ]
  },
  {
   "cell_type": "code",
   "execution_count": 4,
   "metadata": {},
   "outputs": [],
   "source": [
    "from q1_memory import q1_memory\n"
   ]
  },
  {
   "cell_type": "code",
   "execution_count": 5,
   "metadata": {},
   "outputs": [
    {
     "data": {
      "text/html": [
       "<pre style=\"white-space:pre;overflow-x:auto;line-height:normal;font-family:Menlo,'DejaVu Sans Mono',consolas,'Courier New',monospace\"><span style=\"font-style: italic\">           📊 </span><span style=\"font-weight: bold; font-style: italic\">Métricas de Tiempo</span><span style=\"font-style: italic\">            </span>\n",
       "┏━━━━━━━━━━━━━━━━━━━━━━━━┳━━━━━━━━━━━━━━━━━┓\n",
       "┃<span style=\"color: #800080; text-decoration-color: #800080; font-weight: bold\"> Fase                   </span>┃<span style=\"color: #800080; text-decoration-color: #800080; font-weight: bold\">        Duración </span>┃\n",
       "┡━━━━━━━━━━━━━━━━━━━━━━━━╇━━━━━━━━━━━━━━━━━┩\n",
       "│<span style=\"color: #008080; text-decoration-color: #008080\"> Conexión y preparación </span>│ 1.0377 segundos │\n",
       "│<span style=\"color: #008080; text-decoration-color: #008080\"> Lectura del archivo    </span>│ 5.1695 segundos │\n",
       "│<span style=\"color: #008080; text-decoration-color: #008080\"> Análisis y consulta    </span>│ 0.0039 segundos │\n",
       "│<span style=\"color: #008080; text-decoration-color: #008080\"> </span><span style=\"color: #008080; text-decoration-color: #008080; font-weight: bold\">TOTAL</span><span style=\"color: #008080; text-decoration-color: #008080\">                  </span>│ <span style=\"font-weight: bold\">7.2493 segundos</span> │\n",
       "└────────────────────────┴─────────────────┘\n",
       "</pre>\n"
      ],
      "text/plain": [
       "\u001b[3m           📊 \u001b[0m\u001b[1;3mMétricas de Tiempo\u001b[0m\u001b[3m            \u001b[0m\n",
       "┏━━━━━━━━━━━━━━━━━━━━━━━━┳━━━━━━━━━━━━━━━━━┓\n",
       "┃\u001b[1;35m \u001b[0m\u001b[1;35mFase                  \u001b[0m\u001b[1;35m \u001b[0m┃\u001b[1;35m \u001b[0m\u001b[1;35m       Duración\u001b[0m\u001b[1;35m \u001b[0m┃\n",
       "┡━━━━━━━━━━━━━━━━━━━━━━━━╇━━━━━━━━━━━━━━━━━┩\n",
       "│\u001b[36m \u001b[0m\u001b[36mConexión y preparación\u001b[0m\u001b[36m \u001b[0m│ 1.0377 segundos │\n",
       "│\u001b[36m \u001b[0m\u001b[36mLectura del archivo   \u001b[0m\u001b[36m \u001b[0m│ 5.1695 segundos │\n",
       "│\u001b[36m \u001b[0m\u001b[36mAnálisis y consulta   \u001b[0m\u001b[36m \u001b[0m│ 0.0039 segundos │\n",
       "│\u001b[36m \u001b[0m\u001b[1;36mTOTAL\u001b[0m\u001b[36m                 \u001b[0m\u001b[36m \u001b[0m│ \u001b[1m7.2493 segundos\u001b[0m │\n",
       "└────────────────────────┴─────────────────┘\n"
      ]
     },
     "metadata": {},
     "output_type": "display_data"
    },
    {
     "data": {
      "text/html": [
       "<pre style=\"white-space:pre;overflow-x:auto;line-height:normal;font-family:Menlo,'DejaVu Sans Mono',consolas,'Courier New',monospace\"><span style=\"font-style: italic\">       💾 </span><span style=\"font-weight: bold; font-style: italic\">Métricas de Memoria (MB)</span><span style=\"font-style: italic\">        </span>\n",
       "┏━━━━━━━━━━━━━━━━━━━━━┳━━━━━━━━┳━━━━━━━━━┓\n",
       "┃<span style=\"color: #000080; text-decoration-color: #000080; font-weight: bold\"> Fase                </span>┃<span style=\"color: #000080; text-decoration-color: #000080; font-weight: bold\">  Valor </span>┃<span style=\"color: #000080; text-decoration-color: #000080; font-weight: bold\">       Δ </span>┃\n",
       "┡━━━━━━━━━━━━━━━━━━━━━╇━━━━━━━━╇━━━━━━━━━┩\n",
       "│<span style=\"color: #008080; text-decoration-color: #008080\"> Memoria base        </span>│ 168.43 │         │\n",
       "│<span style=\"color: #008080; text-decoration-color: #008080\"> Después de conexión </span>│   0.00 │ <span style=\"color: #008000; text-decoration-color: #008000\">-168.43</span> │\n",
       "│<span style=\"color: #008080; text-decoration-color: #008080\"> Después de lectura  </span>│ 171.62 │ <span style=\"color: #008000; text-decoration-color: #008000\">+171.62</span> │\n",
       "│<span style=\"color: #008080; text-decoration-color: #008080\"> Después de consulta </span>│ 171.62 │   <span style=\"color: #800000; text-decoration-color: #800000\">+0.01</span> │\n",
       "│<span style=\"color: #008080; text-decoration-color: #008080\"> </span><span style=\"color: #008080; text-decoration-color: #008080; font-weight: bold\">Consumo máximo</span><span style=\"color: #008080; text-decoration-color: #008080\">      </span>│ <span style=\"font-weight: bold\">171.62</span> │         │\n",
       "└─────────────────────┴────────┴─────────┘\n",
       "</pre>\n"
      ],
      "text/plain": [
       "\u001b[3m       💾 \u001b[0m\u001b[1;3mMétricas de Memoria (MB)\u001b[0m\u001b[3m        \u001b[0m\n",
       "┏━━━━━━━━━━━━━━━━━━━━━┳━━━━━━━━┳━━━━━━━━━┓\n",
       "┃\u001b[1;34m \u001b[0m\u001b[1;34mFase               \u001b[0m\u001b[1;34m \u001b[0m┃\u001b[1;34m \u001b[0m\u001b[1;34m Valor\u001b[0m\u001b[1;34m \u001b[0m┃\u001b[1;34m \u001b[0m\u001b[1;34m      Δ\u001b[0m\u001b[1;34m \u001b[0m┃\n",
       "┡━━━━━━━━━━━━━━━━━━━━━╇━━━━━━━━╇━━━━━━━━━┩\n",
       "│\u001b[36m \u001b[0m\u001b[36mMemoria base       \u001b[0m\u001b[36m \u001b[0m│ 168.43 │         │\n",
       "│\u001b[36m \u001b[0m\u001b[36mDespués de conexión\u001b[0m\u001b[36m \u001b[0m│   0.00 │ \u001b[32m-168.43\u001b[0m │\n",
       "│\u001b[36m \u001b[0m\u001b[36mDespués de lectura \u001b[0m\u001b[36m \u001b[0m│ 171.62 │ \u001b[32m+171.62\u001b[0m │\n",
       "│\u001b[36m \u001b[0m\u001b[36mDespués de consulta\u001b[0m\u001b[36m \u001b[0m│ 171.62 │   \u001b[31m+0.01\u001b[0m │\n",
       "│\u001b[36m \u001b[0m\u001b[1;36mConsumo máximo\u001b[0m\u001b[36m     \u001b[0m\u001b[36m \u001b[0m│ \u001b[1m171.62\u001b[0m │         │\n",
       "└─────────────────────┴────────┴─────────┘\n"
      ]
     },
     "metadata": {},
     "output_type": "display_data"
    },
    {
     "data": {
      "text/html": [
       "<pre style=\"white-space:pre;overflow-x:auto;line-height:normal;font-family:Menlo,'DejaVu Sans Mono',consolas,'Courier New',monospace\">\n",
       "RESULTADOS MEMORIA:\n",
       "</pre>\n"
      ],
      "text/plain": [
       "\n",
       "RESULTADOS MEMORIA:\n"
      ]
     },
     "metadata": {},
     "output_type": "display_data"
    },
    {
     "data": {
      "text/html": [
       "<pre style=\"white-space:pre;overflow-x:auto;line-height:normal;font-family:Menlo,'DejaVu Sans Mono',consolas,'Courier New',monospace\"><span style=\"font-weight: bold\">[</span>\n",
       "    <span style=\"font-weight: bold\">(</span><span style=\"color: #800080; text-decoration-color: #800080; font-weight: bold\">datetime.date</span><span style=\"font-weight: bold\">(</span><span style=\"color: #008080; text-decoration-color: #008080; font-weight: bold\">2021</span>, <span style=\"color: #008080; text-decoration-color: #008080; font-weight: bold\">2</span>, <span style=\"color: #008080; text-decoration-color: #008080; font-weight: bold\">12</span><span style=\"font-weight: bold\">)</span>, <span style=\"color: #008000; text-decoration-color: #008000\">'RanbirS00614606'</span><span style=\"font-weight: bold\">)</span>,\n",
       "    <span style=\"font-weight: bold\">(</span><span style=\"color: #800080; text-decoration-color: #800080; font-weight: bold\">datetime.date</span><span style=\"font-weight: bold\">(</span><span style=\"color: #008080; text-decoration-color: #008080; font-weight: bold\">2021</span>, <span style=\"color: #008080; text-decoration-color: #008080; font-weight: bold\">2</span>, <span style=\"color: #008080; text-decoration-color: #008080; font-weight: bold\">13</span><span style=\"font-weight: bold\">)</span>, <span style=\"color: #008000; text-decoration-color: #008000\">'MaanDee08215437'</span><span style=\"font-weight: bold\">)</span>,\n",
       "    <span style=\"font-weight: bold\">(</span><span style=\"color: #800080; text-decoration-color: #800080; font-weight: bold\">datetime.date</span><span style=\"font-weight: bold\">(</span><span style=\"color: #008080; text-decoration-color: #008080; font-weight: bold\">2021</span>, <span style=\"color: #008080; text-decoration-color: #008080; font-weight: bold\">2</span>, <span style=\"color: #008080; text-decoration-color: #008080; font-weight: bold\">17</span><span style=\"font-weight: bold\">)</span>, <span style=\"color: #008000; text-decoration-color: #008000\">'RaaJVinderkaur'</span><span style=\"font-weight: bold\">)</span>,\n",
       "    <span style=\"font-weight: bold\">(</span><span style=\"color: #800080; text-decoration-color: #800080; font-weight: bold\">datetime.date</span><span style=\"font-weight: bold\">(</span><span style=\"color: #008080; text-decoration-color: #008080; font-weight: bold\">2021</span>, <span style=\"color: #008080; text-decoration-color: #008080; font-weight: bold\">2</span>, <span style=\"color: #008080; text-decoration-color: #008080; font-weight: bold\">16</span><span style=\"font-weight: bold\">)</span>, <span style=\"color: #008000; text-decoration-color: #008000\">'jot__b'</span><span style=\"font-weight: bold\">)</span>,\n",
       "    <span style=\"font-weight: bold\">(</span><span style=\"color: #800080; text-decoration-color: #800080; font-weight: bold\">datetime.date</span><span style=\"font-weight: bold\">(</span><span style=\"color: #008080; text-decoration-color: #008080; font-weight: bold\">2021</span>, <span style=\"color: #008080; text-decoration-color: #008080; font-weight: bold\">2</span>, <span style=\"color: #008080; text-decoration-color: #008080; font-weight: bold\">14</span><span style=\"font-weight: bold\">)</span>, <span style=\"color: #008000; text-decoration-color: #008000\">'rebelpacifist'</span><span style=\"font-weight: bold\">)</span>,\n",
       "    <span style=\"font-weight: bold\">(</span><span style=\"color: #800080; text-decoration-color: #800080; font-weight: bold\">datetime.date</span><span style=\"font-weight: bold\">(</span><span style=\"color: #008080; text-decoration-color: #008080; font-weight: bold\">2021</span>, <span style=\"color: #008080; text-decoration-color: #008080; font-weight: bold\">2</span>, <span style=\"color: #008080; text-decoration-color: #008080; font-weight: bold\">18</span><span style=\"font-weight: bold\">)</span>, <span style=\"color: #008000; text-decoration-color: #008000\">'neetuanjle_nitu'</span><span style=\"font-weight: bold\">)</span>,\n",
       "    <span style=\"font-weight: bold\">(</span><span style=\"color: #800080; text-decoration-color: #800080; font-weight: bold\">datetime.date</span><span style=\"font-weight: bold\">(</span><span style=\"color: #008080; text-decoration-color: #008080; font-weight: bold\">2021</span>, <span style=\"color: #008080; text-decoration-color: #008080; font-weight: bold\">2</span>, <span style=\"color: #008080; text-decoration-color: #008080; font-weight: bold\">15</span><span style=\"font-weight: bold\">)</span>, <span style=\"color: #008000; text-decoration-color: #008000\">'jot__b'</span><span style=\"font-weight: bold\">)</span>,\n",
       "    <span style=\"font-weight: bold\">(</span><span style=\"color: #800080; text-decoration-color: #800080; font-weight: bold\">datetime.date</span><span style=\"font-weight: bold\">(</span><span style=\"color: #008080; text-decoration-color: #008080; font-weight: bold\">2021</span>, <span style=\"color: #008080; text-decoration-color: #008080; font-weight: bold\">2</span>, <span style=\"color: #008080; text-decoration-color: #008080; font-weight: bold\">20</span><span style=\"font-weight: bold\">)</span>, <span style=\"color: #008000; text-decoration-color: #008000\">'MangalJ23056160'</span><span style=\"font-weight: bold\">)</span>,\n",
       "    <span style=\"font-weight: bold\">(</span><span style=\"color: #800080; text-decoration-color: #800080; font-weight: bold\">datetime.date</span><span style=\"font-weight: bold\">(</span><span style=\"color: #008080; text-decoration-color: #008080; font-weight: bold\">2021</span>, <span style=\"color: #008080; text-decoration-color: #008080; font-weight: bold\">2</span>, <span style=\"color: #008080; text-decoration-color: #008080; font-weight: bold\">23</span><span style=\"font-weight: bold\">)</span>, <span style=\"color: #008000; text-decoration-color: #008000\">'Surrypuria'</span><span style=\"font-weight: bold\">)</span>,\n",
       "    <span style=\"font-weight: bold\">(</span><span style=\"color: #800080; text-decoration-color: #800080; font-weight: bold\">datetime.date</span><span style=\"font-weight: bold\">(</span><span style=\"color: #008080; text-decoration-color: #008080; font-weight: bold\">2021</span>, <span style=\"color: #008080; text-decoration-color: #008080; font-weight: bold\">2</span>, <span style=\"color: #008080; text-decoration-color: #008080; font-weight: bold\">19</span><span style=\"font-weight: bold\">)</span>, <span style=\"color: #008000; text-decoration-color: #008000\">'Preetm91'</span><span style=\"font-weight: bold\">)</span>\n",
       "<span style=\"font-weight: bold\">]</span>\n",
       "</pre>\n"
      ],
      "text/plain": [
       "\u001b[1m[\u001b[0m\n",
       "    \u001b[1m(\u001b[0m\u001b[1;35mdatetime.date\u001b[0m\u001b[1m(\u001b[0m\u001b[1;36m2021\u001b[0m, \u001b[1;36m2\u001b[0m, \u001b[1;36m12\u001b[0m\u001b[1m)\u001b[0m, \u001b[32m'RanbirS00614606'\u001b[0m\u001b[1m)\u001b[0m,\n",
       "    \u001b[1m(\u001b[0m\u001b[1;35mdatetime.date\u001b[0m\u001b[1m(\u001b[0m\u001b[1;36m2021\u001b[0m, \u001b[1;36m2\u001b[0m, \u001b[1;36m13\u001b[0m\u001b[1m)\u001b[0m, \u001b[32m'MaanDee08215437'\u001b[0m\u001b[1m)\u001b[0m,\n",
       "    \u001b[1m(\u001b[0m\u001b[1;35mdatetime.date\u001b[0m\u001b[1m(\u001b[0m\u001b[1;36m2021\u001b[0m, \u001b[1;36m2\u001b[0m, \u001b[1;36m17\u001b[0m\u001b[1m)\u001b[0m, \u001b[32m'RaaJVinderkaur'\u001b[0m\u001b[1m)\u001b[0m,\n",
       "    \u001b[1m(\u001b[0m\u001b[1;35mdatetime.date\u001b[0m\u001b[1m(\u001b[0m\u001b[1;36m2021\u001b[0m, \u001b[1;36m2\u001b[0m, \u001b[1;36m16\u001b[0m\u001b[1m)\u001b[0m, \u001b[32m'jot__b'\u001b[0m\u001b[1m)\u001b[0m,\n",
       "    \u001b[1m(\u001b[0m\u001b[1;35mdatetime.date\u001b[0m\u001b[1m(\u001b[0m\u001b[1;36m2021\u001b[0m, \u001b[1;36m2\u001b[0m, \u001b[1;36m14\u001b[0m\u001b[1m)\u001b[0m, \u001b[32m'rebelpacifist'\u001b[0m\u001b[1m)\u001b[0m,\n",
       "    \u001b[1m(\u001b[0m\u001b[1;35mdatetime.date\u001b[0m\u001b[1m(\u001b[0m\u001b[1;36m2021\u001b[0m, \u001b[1;36m2\u001b[0m, \u001b[1;36m18\u001b[0m\u001b[1m)\u001b[0m, \u001b[32m'neetuanjle_nitu'\u001b[0m\u001b[1m)\u001b[0m,\n",
       "    \u001b[1m(\u001b[0m\u001b[1;35mdatetime.date\u001b[0m\u001b[1m(\u001b[0m\u001b[1;36m2021\u001b[0m, \u001b[1;36m2\u001b[0m, \u001b[1;36m15\u001b[0m\u001b[1m)\u001b[0m, \u001b[32m'jot__b'\u001b[0m\u001b[1m)\u001b[0m,\n",
       "    \u001b[1m(\u001b[0m\u001b[1;35mdatetime.date\u001b[0m\u001b[1m(\u001b[0m\u001b[1;36m2021\u001b[0m, \u001b[1;36m2\u001b[0m, \u001b[1;36m20\u001b[0m\u001b[1m)\u001b[0m, \u001b[32m'MangalJ23056160'\u001b[0m\u001b[1m)\u001b[0m,\n",
       "    \u001b[1m(\u001b[0m\u001b[1;35mdatetime.date\u001b[0m\u001b[1m(\u001b[0m\u001b[1;36m2021\u001b[0m, \u001b[1;36m2\u001b[0m, \u001b[1;36m23\u001b[0m\u001b[1m)\u001b[0m, \u001b[32m'Surrypuria'\u001b[0m\u001b[1m)\u001b[0m,\n",
       "    \u001b[1m(\u001b[0m\u001b[1;35mdatetime.date\u001b[0m\u001b[1m(\u001b[0m\u001b[1;36m2021\u001b[0m, \u001b[1;36m2\u001b[0m, \u001b[1;36m19\u001b[0m\u001b[1m)\u001b[0m, \u001b[32m'Preetm91'\u001b[0m\u001b[1m)\u001b[0m\n",
       "\u001b[1m]\u001b[0m\n"
      ]
     },
     "metadata": {},
     "output_type": "display_data"
    }
   ],
   "source": [
    "resultados = q1_memory(file_path)\n",
    "\n",
    "print(\"\\nRESULTADOS MEMORIA:\")\n",
    "print(resultados)"
   ]
  },
  {
   "cell_type": "markdown",
   "metadata": {},
   "source": [
    "> Como dije arriba, ejecutar este script por fuera del notebook mejora significativamente el uso de memoria\n",
    "\n",
    "```sh\n",
    "\n",
    "📊 Métricas de Tiempo            \n",
    "┏━━━━━━━━━━━━━━━━━━━━━━━━┳━━━━━━━━━━━━━━━━━┓\n",
    "┃ Fase                   ┃        Duración ┃\n",
    "┡━━━━━━━━━━━━━━━━━━━━━━━━╇━━━━━━━━━━━━━━━━━┩\n",
    "│ Conexión y preparación │ 1.0399 segundos │\n",
    "│ Lectura del archivo    │ 5.2299 segundos │\n",
    "│ Análisis y consulta    │ 0.0082 segundos │\n",
    "│ TOTAL                  │ 7.3152 segundos │\n",
    "└────────────────────────┴─────────────────┘\n",
    "      💾 Métricas de Memoria (MB)       \n",
    "┏━━━━━━━━━━━━━━━━━━━━━┳━━━━━━━┳━━━━━━━━┓\n",
    "┃ Fase                ┃ Valor ┃      Δ ┃\n",
    "┡━━━━━━━━━━━━━━━━━━━━━╇━━━━━━━╇━━━━━━━━┩\n",
    "│ Memoria base        │ 51.57 │        │\n",
    "│ Después de conexión │  0.00 │ -51.57 │\n",
    "│ Después de lectura  │ 57.25 │ +57.25 │\n",
    "│ Después de consulta │ 57.26 │  +0.01 │\n",
    "│ Consumo máximo      │ 57.26 │        │\n",
    "└─────────────────────┴───────┴────────┘\n",
    "\n",
    "```"
   ]
  },
  {
   "cell_type": "markdown",
   "metadata": {},
   "source": [
    "# Q2"
   ]
  },
  {
   "cell_type": "markdown",
   "metadata": {},
   "source": [
    "## Time"
   ]
  },
  {
   "cell_type": "markdown",
   "metadata": {},
   "source": [
    "## Memory"
   ]
  },
  {
   "cell_type": "markdown",
   "metadata": {},
   "source": [
    "# Q3"
   ]
  },
  {
   "cell_type": "markdown",
   "metadata": {},
   "source": [
    "## Time"
   ]
  },
  {
   "cell_type": "markdown",
   "metadata": {},
   "source": [
    "## Memory"
   ]
  }
 ],
 "metadata": {
  "kernelspec": {
   "display_name": ".venv",
   "language": "python",
   "name": "python3"
  },
  "language_info": {
   "codemirror_mode": {
    "name": "ipython",
    "version": 3
   },
   "file_extension": ".py",
   "mimetype": "text/x-python",
   "name": "python",
   "nbconvert_exporter": "python",
   "pygments_lexer": "ipython3",
   "version": "3.13.0"
  },
  "orig_nbformat": 4
 },
 "nbformat": 4,
 "nbformat_minor": 2
}
