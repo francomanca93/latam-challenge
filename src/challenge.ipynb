{
 "cells": [
  {
   "cell_type": "markdown",
   "metadata": {},
   "source": [
    "En este archivo puedes escribir lo que estimes conveniente. Te recomendamos detallar tu solución y todas las suposiciones que estás considerando. Aquí puedes ejecutar las funciones que definiste en los otros archivos de la carpeta src, medir el tiempo, memoria, etc."
   ]
  },
  {
   "cell_type": "code",
   "execution_count": 1,
   "metadata": {},
   "outputs": [],
   "source": [
    "from rich import print\n",
    "\n",
    "file_path = \"../farmers-protest-tweets-2021-2-4.json\""
   ]
  },
  {
   "cell_type": "markdown",
   "metadata": {},
   "source": [
    "He decidido medir el tiempo y la memoria en ambos ejecicios de optimizacion. esto me ha permitido visualizar el trade-off que estoy ejerciendo por una metodologia u otra.\n",
    "\n",
    "En casos generales he observado que si me enfoco en optimizar el tiempo aumenta el consumo de memoria y en el caso contrario si me enfoco en reducir el consumo de memoria aumenta el tiempo de procesamiento.\n",
    "\n",
    "Algunas consideraciones generales que he tenido en cuenta:\n",
    "\n",
    "### Justificación de DuckDB para optimización por tiempo\n",
    "- **Procesamiento en memoria**: DuckDB opera en memoria (OLAP) y acelera consultas por el tipo de procesamiento.\n",
    "- **SQL optimizado**: Ejecuta consultas con optimizaciones automáticas.\n",
    "- **Formatos directos**: Lee/Analiza archivos (CSV, Parquet, JSON) sin ingestión previa, reduciendo pasos intermedios.\n",
    "- **Escalabilidad vertical**: Aprovecha todos los núcleos del CPU para operaciones paralelas.\n",
    "- **Caché automático**: Almacena resultados intermedios para reutilización en consultas recurrentes.\n",
    "\n",
    "\n",
    "### Justificación de estructuras nativas y librerías para optimización por memoria\n",
    "- **Generadores de Python**: Procesan datos en flujo (yield), cargando solo lo necesario en memoria.\n",
    "- **defaultdict**: Reduce memoria al evitar verificaciones de clave existente.\n",
    "- **Counter**: Optimiza conteos frecuentes con hash tables internas, minimizando uso de memoria frente a alternativas manuales.\n",
    "- **ujson**: Serializa/deserializa JSON más rápido que json estándar. Esta escrito en C.\n",
    "\n",
    "------\n",
    "\n",
    "DuckDB prioriza velocidad, mientras que las estructuras nativas y generadores sacrifican velocidad por un perfil de memoria ajustado.\n",
    "\n",
    "En el caso de la medicion de memoria a fondo con profile he decidido no utilizarlo para no mostrar en los logs ese analisis, pero se puede ir por este lado utilizando el decorador `@profile` importandolo con `from memory_profiler import profile`"
   ]
  },
  {
   "cell_type": "markdown",
   "metadata": {},
   "source": [
    "# Q1"
   ]
  },
  {
   "cell_type": "markdown",
   "metadata": {},
   "source": [
    "## Time"
   ]
  },
  {
   "cell_type": "code",
   "execution_count": 2,
   "metadata": {},
   "outputs": [],
   "source": [
    "from q1_time import q1_time"
   ]
  },
  {
   "cell_type": "code",
   "execution_count": 3,
   "metadata": {},
   "outputs": [
    {
     "data": {
      "text/html": [
       "<pre style=\"white-space:pre;overflow-x:auto;line-height:normal;font-family:Menlo,'DejaVu Sans Mono',consolas,'Courier New',monospace\"><span style=\"font-style: italic\">           📊 </span><span style=\"font-weight: bold; font-style: italic\">Métricas de Tiempo</span><span style=\"font-style: italic\">            </span>\n",
       "┏━━━━━━━━━━━━━━━━━━━━━━━━┳━━━━━━━━━━━━━━━━━┓\n",
       "┃<span style=\"color: #800080; text-decoration-color: #800080; font-weight: bold\"> Fase                   </span>┃<span style=\"color: #800080; text-decoration-color: #800080; font-weight: bold\">        Duración </span>┃\n",
       "┡━━━━━━━━━━━━━━━━━━━━━━━━╇━━━━━━━━━━━━━━━━━┩\n",
       "│<span style=\"color: #008080; text-decoration-color: #008080\"> Conexión y preparación </span>│ 2.0903 segundos │\n",
       "│<span style=\"color: #008080; text-decoration-color: #008080\"> Lectura del archivo    </span>│ 2.2317 segundos │\n",
       "│<span style=\"color: #008080; text-decoration-color: #008080\"> Análisis y consulta    </span>│ 0.0564 segundos │\n",
       "│<span style=\"color: #008080; text-decoration-color: #008080\"> </span><span style=\"color: #008080; text-decoration-color: #008080; font-weight: bold\">TOTAL</span><span style=\"color: #008080; text-decoration-color: #008080\">                  </span>│ <span style=\"font-weight: bold\">6.5358 segundos</span> │\n",
       "└────────────────────────┴─────────────────┘\n",
       "</pre>\n"
      ],
      "text/plain": [
       "\u001b[3m           📊 \u001b[0m\u001b[1;3mMétricas de Tiempo\u001b[0m\u001b[3m            \u001b[0m\n",
       "┏━━━━━━━━━━━━━━━━━━━━━━━━┳━━━━━━━━━━━━━━━━━┓\n",
       "┃\u001b[1;35m \u001b[0m\u001b[1;35mFase                  \u001b[0m\u001b[1;35m \u001b[0m┃\u001b[1;35m \u001b[0m\u001b[1;35m       Duración\u001b[0m\u001b[1;35m \u001b[0m┃\n",
       "┡━━━━━━━━━━━━━━━━━━━━━━━━╇━━━━━━━━━━━━━━━━━┩\n",
       "│\u001b[36m \u001b[0m\u001b[36mConexión y preparación\u001b[0m\u001b[36m \u001b[0m│ 2.0903 segundos │\n",
       "│\u001b[36m \u001b[0m\u001b[36mLectura del archivo   \u001b[0m\u001b[36m \u001b[0m│ 2.2317 segundos │\n",
       "│\u001b[36m \u001b[0m\u001b[36mAnálisis y consulta   \u001b[0m\u001b[36m \u001b[0m│ 0.0564 segundos │\n",
       "│\u001b[36m \u001b[0m\u001b[1;36mTOTAL\u001b[0m\u001b[36m                 \u001b[0m\u001b[36m \u001b[0m│ \u001b[1m6.5358 segundos\u001b[0m │\n",
       "└────────────────────────┴─────────────────┘\n"
      ]
     },
     "metadata": {},
     "output_type": "display_data"
    },
    {
     "data": {
      "text/html": [
       "<pre style=\"white-space:pre;overflow-x:auto;line-height:normal;font-family:Menlo,'DejaVu Sans Mono',consolas,'Courier New',monospace\"><span style=\"font-style: italic\">       💾 </span><span style=\"font-weight: bold; font-style: italic\">Métricas de Memoria (MB)</span><span style=\"font-style: italic\">        </span>\n",
       "┏━━━━━━━━━━━━━━━━━━━━━┳━━━━━━━━┳━━━━━━━━━┓\n",
       "┃<span style=\"color: #000080; text-decoration-color: #000080; font-weight: bold\"> Fase                </span>┃<span style=\"color: #000080; text-decoration-color: #000080; font-weight: bold\">  Valor </span>┃<span style=\"color: #000080; text-decoration-color: #000080; font-weight: bold\">       Δ </span>┃\n",
       "┡━━━━━━━━━━━━━━━━━━━━━╇━━━━━━━━╇━━━━━━━━━┩\n",
       "│<span style=\"color: #008080; text-decoration-color: #008080\"> Memoria base        </span>│  73.39 │         │\n",
       "│<span style=\"color: #008080; text-decoration-color: #008080\"> Después de conexión </span>│  79.81 │   <span style=\"color: #008000; text-decoration-color: #008000\">+6.42</span> │\n",
       "│<span style=\"color: #008080; text-decoration-color: #008080\"> Después de lectura  </span>│ 553.48 │ <span style=\"color: #008000; text-decoration-color: #008000\">+473.67</span> │\n",
       "│<span style=\"color: #008080; text-decoration-color: #008080\"> Después de consulta </span>│ 550.17 │   <span style=\"color: #800000; text-decoration-color: #800000\">-3.32</span> │\n",
       "│<span style=\"color: #008080; text-decoration-color: #008080\"> </span><span style=\"color: #008080; text-decoration-color: #008080; font-weight: bold\">Consumo máximo</span><span style=\"color: #008080; text-decoration-color: #008080\">      </span>│ <span style=\"font-weight: bold\">553.48</span> │         │\n",
       "└─────────────────────┴────────┴─────────┘\n",
       "</pre>\n"
      ],
      "text/plain": [
       "\u001b[3m       💾 \u001b[0m\u001b[1;3mMétricas de Memoria (MB)\u001b[0m\u001b[3m        \u001b[0m\n",
       "┏━━━━━━━━━━━━━━━━━━━━━┳━━━━━━━━┳━━━━━━━━━┓\n",
       "┃\u001b[1;34m \u001b[0m\u001b[1;34mFase               \u001b[0m\u001b[1;34m \u001b[0m┃\u001b[1;34m \u001b[0m\u001b[1;34m Valor\u001b[0m\u001b[1;34m \u001b[0m┃\u001b[1;34m \u001b[0m\u001b[1;34m      Δ\u001b[0m\u001b[1;34m \u001b[0m┃\n",
       "┡━━━━━━━━━━━━━━━━━━━━━╇━━━━━━━━╇━━━━━━━━━┩\n",
       "│\u001b[36m \u001b[0m\u001b[36mMemoria base       \u001b[0m\u001b[36m \u001b[0m│  73.39 │         │\n",
       "│\u001b[36m \u001b[0m\u001b[36mDespués de conexión\u001b[0m\u001b[36m \u001b[0m│  79.81 │   \u001b[32m+6.42\u001b[0m │\n",
       "│\u001b[36m \u001b[0m\u001b[36mDespués de lectura \u001b[0m\u001b[36m \u001b[0m│ 553.48 │ \u001b[32m+473.67\u001b[0m │\n",
       "│\u001b[36m \u001b[0m\u001b[36mDespués de consulta\u001b[0m\u001b[36m \u001b[0m│ 550.17 │   \u001b[31m-3.32\u001b[0m │\n",
       "│\u001b[36m \u001b[0m\u001b[1;36mConsumo máximo\u001b[0m\u001b[36m     \u001b[0m\u001b[36m \u001b[0m│ \u001b[1m553.48\u001b[0m │         │\n",
       "└─────────────────────┴────────┴─────────┘\n"
      ]
     },
     "metadata": {},
     "output_type": "display_data"
    },
    {
     "data": {
      "text/html": [
       "<pre style=\"white-space:pre;overflow-x:auto;line-height:normal;font-family:Menlo,'DejaVu Sans Mono',consolas,'Courier New',monospace\">\n",
       "RESULTADOS TIEMPO:\n",
       "</pre>\n"
      ],
      "text/plain": [
       "\n",
       "RESULTADOS TIEMPO:\n"
      ]
     },
     "metadata": {},
     "output_type": "display_data"
    },
    {
     "data": {
      "text/html": [
       "<pre style=\"white-space:pre;overflow-x:auto;line-height:normal;font-family:Menlo,'DejaVu Sans Mono',consolas,'Courier New',monospace\"><span style=\"font-weight: bold\">[</span>\n",
       "    <span style=\"font-weight: bold\">(</span><span style=\"color: #800080; text-decoration-color: #800080; font-weight: bold\">datetime.date</span><span style=\"font-weight: bold\">(</span><span style=\"color: #008080; text-decoration-color: #008080; font-weight: bold\">2021</span>, <span style=\"color: #008080; text-decoration-color: #008080; font-weight: bold\">2</span>, <span style=\"color: #008080; text-decoration-color: #008080; font-weight: bold\">12</span><span style=\"font-weight: bold\">)</span>, <span style=\"color: #008000; text-decoration-color: #008000\">'RanbirS00614606'</span><span style=\"font-weight: bold\">)</span>,\n",
       "    <span style=\"font-weight: bold\">(</span><span style=\"color: #800080; text-decoration-color: #800080; font-weight: bold\">datetime.date</span><span style=\"font-weight: bold\">(</span><span style=\"color: #008080; text-decoration-color: #008080; font-weight: bold\">2021</span>, <span style=\"color: #008080; text-decoration-color: #008080; font-weight: bold\">2</span>, <span style=\"color: #008080; text-decoration-color: #008080; font-weight: bold\">13</span><span style=\"font-weight: bold\">)</span>, <span style=\"color: #008000; text-decoration-color: #008000\">'MaanDee08215437'</span><span style=\"font-weight: bold\">)</span>,\n",
       "    <span style=\"font-weight: bold\">(</span><span style=\"color: #800080; text-decoration-color: #800080; font-weight: bold\">datetime.date</span><span style=\"font-weight: bold\">(</span><span style=\"color: #008080; text-decoration-color: #008080; font-weight: bold\">2021</span>, <span style=\"color: #008080; text-decoration-color: #008080; font-weight: bold\">2</span>, <span style=\"color: #008080; text-decoration-color: #008080; font-weight: bold\">17</span><span style=\"font-weight: bold\">)</span>, <span style=\"color: #008000; text-decoration-color: #008000\">'RaaJVinderkaur'</span><span style=\"font-weight: bold\">)</span>,\n",
       "    <span style=\"font-weight: bold\">(</span><span style=\"color: #800080; text-decoration-color: #800080; font-weight: bold\">datetime.date</span><span style=\"font-weight: bold\">(</span><span style=\"color: #008080; text-decoration-color: #008080; font-weight: bold\">2021</span>, <span style=\"color: #008080; text-decoration-color: #008080; font-weight: bold\">2</span>, <span style=\"color: #008080; text-decoration-color: #008080; font-weight: bold\">16</span><span style=\"font-weight: bold\">)</span>, <span style=\"color: #008000; text-decoration-color: #008000\">'jot__b'</span><span style=\"font-weight: bold\">)</span>,\n",
       "    <span style=\"font-weight: bold\">(</span><span style=\"color: #800080; text-decoration-color: #800080; font-weight: bold\">datetime.date</span><span style=\"font-weight: bold\">(</span><span style=\"color: #008080; text-decoration-color: #008080; font-weight: bold\">2021</span>, <span style=\"color: #008080; text-decoration-color: #008080; font-weight: bold\">2</span>, <span style=\"color: #008080; text-decoration-color: #008080; font-weight: bold\">14</span><span style=\"font-weight: bold\">)</span>, <span style=\"color: #008000; text-decoration-color: #008000\">'rebelpacifist'</span><span style=\"font-weight: bold\">)</span>,\n",
       "    <span style=\"font-weight: bold\">(</span><span style=\"color: #800080; text-decoration-color: #800080; font-weight: bold\">datetime.date</span><span style=\"font-weight: bold\">(</span><span style=\"color: #008080; text-decoration-color: #008080; font-weight: bold\">2021</span>, <span style=\"color: #008080; text-decoration-color: #008080; font-weight: bold\">2</span>, <span style=\"color: #008080; text-decoration-color: #008080; font-weight: bold\">18</span><span style=\"font-weight: bold\">)</span>, <span style=\"color: #008000; text-decoration-color: #008000\">'neetuanjle_nitu'</span><span style=\"font-weight: bold\">)</span>,\n",
       "    <span style=\"font-weight: bold\">(</span><span style=\"color: #800080; text-decoration-color: #800080; font-weight: bold\">datetime.date</span><span style=\"font-weight: bold\">(</span><span style=\"color: #008080; text-decoration-color: #008080; font-weight: bold\">2021</span>, <span style=\"color: #008080; text-decoration-color: #008080; font-weight: bold\">2</span>, <span style=\"color: #008080; text-decoration-color: #008080; font-weight: bold\">15</span><span style=\"font-weight: bold\">)</span>, <span style=\"color: #008000; text-decoration-color: #008000\">'jot__b'</span><span style=\"font-weight: bold\">)</span>,\n",
       "    <span style=\"font-weight: bold\">(</span><span style=\"color: #800080; text-decoration-color: #800080; font-weight: bold\">datetime.date</span><span style=\"font-weight: bold\">(</span><span style=\"color: #008080; text-decoration-color: #008080; font-weight: bold\">2021</span>, <span style=\"color: #008080; text-decoration-color: #008080; font-weight: bold\">2</span>, <span style=\"color: #008080; text-decoration-color: #008080; font-weight: bold\">20</span><span style=\"font-weight: bold\">)</span>, <span style=\"color: #008000; text-decoration-color: #008000\">'MangalJ23056160'</span><span style=\"font-weight: bold\">)</span>,\n",
       "    <span style=\"font-weight: bold\">(</span><span style=\"color: #800080; text-decoration-color: #800080; font-weight: bold\">datetime.date</span><span style=\"font-weight: bold\">(</span><span style=\"color: #008080; text-decoration-color: #008080; font-weight: bold\">2021</span>, <span style=\"color: #008080; text-decoration-color: #008080; font-weight: bold\">2</span>, <span style=\"color: #008080; text-decoration-color: #008080; font-weight: bold\">23</span><span style=\"font-weight: bold\">)</span>, <span style=\"color: #008000; text-decoration-color: #008000\">'Surrypuria'</span><span style=\"font-weight: bold\">)</span>,\n",
       "    <span style=\"font-weight: bold\">(</span><span style=\"color: #800080; text-decoration-color: #800080; font-weight: bold\">datetime.date</span><span style=\"font-weight: bold\">(</span><span style=\"color: #008080; text-decoration-color: #008080; font-weight: bold\">2021</span>, <span style=\"color: #008080; text-decoration-color: #008080; font-weight: bold\">2</span>, <span style=\"color: #008080; text-decoration-color: #008080; font-weight: bold\">19</span><span style=\"font-weight: bold\">)</span>, <span style=\"color: #008000; text-decoration-color: #008000\">'Preetm91'</span><span style=\"font-weight: bold\">)</span>\n",
       "<span style=\"font-weight: bold\">]</span>\n",
       "</pre>\n"
      ],
      "text/plain": [
       "\u001b[1m[\u001b[0m\n",
       "    \u001b[1m(\u001b[0m\u001b[1;35mdatetime.date\u001b[0m\u001b[1m(\u001b[0m\u001b[1;36m2021\u001b[0m, \u001b[1;36m2\u001b[0m, \u001b[1;36m12\u001b[0m\u001b[1m)\u001b[0m, \u001b[32m'RanbirS00614606'\u001b[0m\u001b[1m)\u001b[0m,\n",
       "    \u001b[1m(\u001b[0m\u001b[1;35mdatetime.date\u001b[0m\u001b[1m(\u001b[0m\u001b[1;36m2021\u001b[0m, \u001b[1;36m2\u001b[0m, \u001b[1;36m13\u001b[0m\u001b[1m)\u001b[0m, \u001b[32m'MaanDee08215437'\u001b[0m\u001b[1m)\u001b[0m,\n",
       "    \u001b[1m(\u001b[0m\u001b[1;35mdatetime.date\u001b[0m\u001b[1m(\u001b[0m\u001b[1;36m2021\u001b[0m, \u001b[1;36m2\u001b[0m, \u001b[1;36m17\u001b[0m\u001b[1m)\u001b[0m, \u001b[32m'RaaJVinderkaur'\u001b[0m\u001b[1m)\u001b[0m,\n",
       "    \u001b[1m(\u001b[0m\u001b[1;35mdatetime.date\u001b[0m\u001b[1m(\u001b[0m\u001b[1;36m2021\u001b[0m, \u001b[1;36m2\u001b[0m, \u001b[1;36m16\u001b[0m\u001b[1m)\u001b[0m, \u001b[32m'jot__b'\u001b[0m\u001b[1m)\u001b[0m,\n",
       "    \u001b[1m(\u001b[0m\u001b[1;35mdatetime.date\u001b[0m\u001b[1m(\u001b[0m\u001b[1;36m2021\u001b[0m, \u001b[1;36m2\u001b[0m, \u001b[1;36m14\u001b[0m\u001b[1m)\u001b[0m, \u001b[32m'rebelpacifist'\u001b[0m\u001b[1m)\u001b[0m,\n",
       "    \u001b[1m(\u001b[0m\u001b[1;35mdatetime.date\u001b[0m\u001b[1m(\u001b[0m\u001b[1;36m2021\u001b[0m, \u001b[1;36m2\u001b[0m, \u001b[1;36m18\u001b[0m\u001b[1m)\u001b[0m, \u001b[32m'neetuanjle_nitu'\u001b[0m\u001b[1m)\u001b[0m,\n",
       "    \u001b[1m(\u001b[0m\u001b[1;35mdatetime.date\u001b[0m\u001b[1m(\u001b[0m\u001b[1;36m2021\u001b[0m, \u001b[1;36m2\u001b[0m, \u001b[1;36m15\u001b[0m\u001b[1m)\u001b[0m, \u001b[32m'jot__b'\u001b[0m\u001b[1m)\u001b[0m,\n",
       "    \u001b[1m(\u001b[0m\u001b[1;35mdatetime.date\u001b[0m\u001b[1m(\u001b[0m\u001b[1;36m2021\u001b[0m, \u001b[1;36m2\u001b[0m, \u001b[1;36m20\u001b[0m\u001b[1m)\u001b[0m, \u001b[32m'MangalJ23056160'\u001b[0m\u001b[1m)\u001b[0m,\n",
       "    \u001b[1m(\u001b[0m\u001b[1;35mdatetime.date\u001b[0m\u001b[1m(\u001b[0m\u001b[1;36m2021\u001b[0m, \u001b[1;36m2\u001b[0m, \u001b[1;36m23\u001b[0m\u001b[1m)\u001b[0m, \u001b[32m'Surrypuria'\u001b[0m\u001b[1m)\u001b[0m,\n",
       "    \u001b[1m(\u001b[0m\u001b[1;35mdatetime.date\u001b[0m\u001b[1m(\u001b[0m\u001b[1;36m2021\u001b[0m, \u001b[1;36m2\u001b[0m, \u001b[1;36m19\u001b[0m\u001b[1m)\u001b[0m, \u001b[32m'Preetm91'\u001b[0m\u001b[1m)\u001b[0m\n",
       "\u001b[1m]\u001b[0m\n"
      ]
     },
     "metadata": {},
     "output_type": "display_data"
    }
   ],
   "source": [
    "# Ejecutar la función\n",
    "resultados = q1_time(file_path)\n",
    "\n",
    "# Mostrar resultados\n",
    "print(\"\\nRESULTADOS TIEMPO:\")\n",
    "print(resultados)"
   ]
  },
  {
   "cell_type": "markdown",
   "metadata": {},
   "source": [
    "> Nota: Al utilizar jupyter notebook para ejecutar estos scripts he visto que el uso de tiempo y memoria puede verse afectado. Es interesante lanzar el script de manera individual sin levantar el kernel de jupyter notebook.\n",
    "\n",
    "Resultado al ejecutar el script por fuera del notebook:\n",
    "\n",
    "```sh\n",
    "\n",
    "           📊 Métricas de Tiempo            \n",
    "┏━━━━━━━━━━━━━━━━━━━━━━━━┳━━━━━━━━━━━━━━━━━┓\n",
    "┃ Fase                   ┃        Duración ┃\n",
    "┡━━━━━━━━━━━━━━━━━━━━━━━━╇━━━━━━━━━━━━━━━━━┩\n",
    "│ Conexión y preparación │ 2.0970 segundos │\n",
    "│ Lectura del archivo    │ 2.1014 segundos │\n",
    "│ Análisis y consulta    │ 0.0391 segundos │\n",
    "│ TOTAL                  │ 6.3936 segundos │\n",
    "└────────────────────────┴─────────────────┘\n",
    "       💾 Métricas de Memoria (MB)        \n",
    "┏━━━━━━━━━━━━━━━━━━━━━┳━━━━━━━━┳━━━━━━━━━┓\n",
    "┃ Fase                ┃  Valor ┃       Δ ┃\n",
    "┡━━━━━━━━━━━━━━━━━━━━━╇━━━━━━━━╇━━━━━━━━━┩\n",
    "│ Memoria base        │  56.13 │         │\n",
    "│ Después de conexión │  63.22 │   +7.09 │\n",
    "│ Después de lectura  │ 554.29 │ +491.07 │\n",
    "│ Después de consulta │ 557.23 │   +2.94 │\n",
    "│ Consumo máximo      │ 557.23 │         │\n",
    "└─────────────────────┴────────┴─────────┘\n",
    "\n",
    "```"
   ]
  },
  {
   "cell_type": "markdown",
   "metadata": {},
   "source": [
    "## Memory"
   ]
  },
  {
   "cell_type": "code",
   "execution_count": 4,
   "metadata": {},
   "outputs": [],
   "source": [
    "from q1_memory import q1_memory\n"
   ]
  },
  {
   "cell_type": "code",
   "execution_count": 5,
   "metadata": {},
   "outputs": [
    {
     "data": {
      "text/html": [
       "<pre style=\"white-space:pre;overflow-x:auto;line-height:normal;font-family:Menlo,'DejaVu Sans Mono',consolas,'Courier New',monospace\"><span style=\"font-style: italic\">           📊 </span><span style=\"font-weight: bold; font-style: italic\">Métricas de Tiempo</span><span style=\"font-style: italic\">            </span>\n",
       "┏━━━━━━━━━━━━━━━━━━━━━━━━┳━━━━━━━━━━━━━━━━━┓\n",
       "┃<span style=\"color: #800080; text-decoration-color: #800080; font-weight: bold\"> Fase                   </span>┃<span style=\"color: #800080; text-decoration-color: #800080; font-weight: bold\">        Duración </span>┃\n",
       "┡━━━━━━━━━━━━━━━━━━━━━━━━╇━━━━━━━━━━━━━━━━━┩\n",
       "│<span style=\"color: #008080; text-decoration-color: #008080\"> Conexión y preparación </span>│ 1.0377 segundos │\n",
       "│<span style=\"color: #008080; text-decoration-color: #008080\"> Lectura del archivo    </span>│ 5.1695 segundos │\n",
       "│<span style=\"color: #008080; text-decoration-color: #008080\"> Análisis y consulta    </span>│ 0.0039 segundos │\n",
       "│<span style=\"color: #008080; text-decoration-color: #008080\"> </span><span style=\"color: #008080; text-decoration-color: #008080; font-weight: bold\">TOTAL</span><span style=\"color: #008080; text-decoration-color: #008080\">                  </span>│ <span style=\"font-weight: bold\">7.2493 segundos</span> │\n",
       "└────────────────────────┴─────────────────┘\n",
       "</pre>\n"
      ],
      "text/plain": [
       "\u001b[3m           📊 \u001b[0m\u001b[1;3mMétricas de Tiempo\u001b[0m\u001b[3m            \u001b[0m\n",
       "┏━━━━━━━━━━━━━━━━━━━━━━━━┳━━━━━━━━━━━━━━━━━┓\n",
       "┃\u001b[1;35m \u001b[0m\u001b[1;35mFase                  \u001b[0m\u001b[1;35m \u001b[0m┃\u001b[1;35m \u001b[0m\u001b[1;35m       Duración\u001b[0m\u001b[1;35m \u001b[0m┃\n",
       "┡━━━━━━━━━━━━━━━━━━━━━━━━╇━━━━━━━━━━━━━━━━━┩\n",
       "│\u001b[36m \u001b[0m\u001b[36mConexión y preparación\u001b[0m\u001b[36m \u001b[0m│ 1.0377 segundos │\n",
       "│\u001b[36m \u001b[0m\u001b[36mLectura del archivo   \u001b[0m\u001b[36m \u001b[0m│ 5.1695 segundos │\n",
       "│\u001b[36m \u001b[0m\u001b[36mAnálisis y consulta   \u001b[0m\u001b[36m \u001b[0m│ 0.0039 segundos │\n",
       "│\u001b[36m \u001b[0m\u001b[1;36mTOTAL\u001b[0m\u001b[36m                 \u001b[0m\u001b[36m \u001b[0m│ \u001b[1m7.2493 segundos\u001b[0m │\n",
       "└────────────────────────┴─────────────────┘\n"
      ]
     },
     "metadata": {},
     "output_type": "display_data"
    },
    {
     "data": {
      "text/html": [
       "<pre style=\"white-space:pre;overflow-x:auto;line-height:normal;font-family:Menlo,'DejaVu Sans Mono',consolas,'Courier New',monospace\"><span style=\"font-style: italic\">       💾 </span><span style=\"font-weight: bold; font-style: italic\">Métricas de Memoria (MB)</span><span style=\"font-style: italic\">        </span>\n",
       "┏━━━━━━━━━━━━━━━━━━━━━┳━━━━━━━━┳━━━━━━━━━┓\n",
       "┃<span style=\"color: #000080; text-decoration-color: #000080; font-weight: bold\"> Fase                </span>┃<span style=\"color: #000080; text-decoration-color: #000080; font-weight: bold\">  Valor </span>┃<span style=\"color: #000080; text-decoration-color: #000080; font-weight: bold\">       Δ </span>┃\n",
       "┡━━━━━━━━━━━━━━━━━━━━━╇━━━━━━━━╇━━━━━━━━━┩\n",
       "│<span style=\"color: #008080; text-decoration-color: #008080\"> Memoria base        </span>│ 168.43 │         │\n",
       "│<span style=\"color: #008080; text-decoration-color: #008080\"> Después de conexión </span>│   0.00 │ <span style=\"color: #008000; text-decoration-color: #008000\">-168.43</span> │\n",
       "│<span style=\"color: #008080; text-decoration-color: #008080\"> Después de lectura  </span>│ 171.62 │ <span style=\"color: #008000; text-decoration-color: #008000\">+171.62</span> │\n",
       "│<span style=\"color: #008080; text-decoration-color: #008080\"> Después de consulta </span>│ 171.62 │   <span style=\"color: #800000; text-decoration-color: #800000\">+0.01</span> │\n",
       "│<span style=\"color: #008080; text-decoration-color: #008080\"> </span><span style=\"color: #008080; text-decoration-color: #008080; font-weight: bold\">Consumo máximo</span><span style=\"color: #008080; text-decoration-color: #008080\">      </span>│ <span style=\"font-weight: bold\">171.62</span> │         │\n",
       "└─────────────────────┴────────┴─────────┘\n",
       "</pre>\n"
      ],
      "text/plain": [
       "\u001b[3m       💾 \u001b[0m\u001b[1;3mMétricas de Memoria (MB)\u001b[0m\u001b[3m        \u001b[0m\n",
       "┏━━━━━━━━━━━━━━━━━━━━━┳━━━━━━━━┳━━━━━━━━━┓\n",
       "┃\u001b[1;34m \u001b[0m\u001b[1;34mFase               \u001b[0m\u001b[1;34m \u001b[0m┃\u001b[1;34m \u001b[0m\u001b[1;34m Valor\u001b[0m\u001b[1;34m \u001b[0m┃\u001b[1;34m \u001b[0m\u001b[1;34m      Δ\u001b[0m\u001b[1;34m \u001b[0m┃\n",
       "┡━━━━━━━━━━━━━━━━━━━━━╇━━━━━━━━╇━━━━━━━━━┩\n",
       "│\u001b[36m \u001b[0m\u001b[36mMemoria base       \u001b[0m\u001b[36m \u001b[0m│ 168.43 │         │\n",
       "│\u001b[36m \u001b[0m\u001b[36mDespués de conexión\u001b[0m\u001b[36m \u001b[0m│   0.00 │ \u001b[32m-168.43\u001b[0m │\n",
       "│\u001b[36m \u001b[0m\u001b[36mDespués de lectura \u001b[0m\u001b[36m \u001b[0m│ 171.62 │ \u001b[32m+171.62\u001b[0m │\n",
       "│\u001b[36m \u001b[0m\u001b[36mDespués de consulta\u001b[0m\u001b[36m \u001b[0m│ 171.62 │   \u001b[31m+0.01\u001b[0m │\n",
       "│\u001b[36m \u001b[0m\u001b[1;36mConsumo máximo\u001b[0m\u001b[36m     \u001b[0m\u001b[36m \u001b[0m│ \u001b[1m171.62\u001b[0m │         │\n",
       "└─────────────────────┴────────┴─────────┘\n"
      ]
     },
     "metadata": {},
     "output_type": "display_data"
    },
    {
     "data": {
      "text/html": [
       "<pre style=\"white-space:pre;overflow-x:auto;line-height:normal;font-family:Menlo,'DejaVu Sans Mono',consolas,'Courier New',monospace\">\n",
       "RESULTADOS MEMORIA:\n",
       "</pre>\n"
      ],
      "text/plain": [
       "\n",
       "RESULTADOS MEMORIA:\n"
      ]
     },
     "metadata": {},
     "output_type": "display_data"
    },
    {
     "data": {
      "text/html": [
       "<pre style=\"white-space:pre;overflow-x:auto;line-height:normal;font-family:Menlo,'DejaVu Sans Mono',consolas,'Courier New',monospace\"><span style=\"font-weight: bold\">[</span>\n",
       "    <span style=\"font-weight: bold\">(</span><span style=\"color: #800080; text-decoration-color: #800080; font-weight: bold\">datetime.date</span><span style=\"font-weight: bold\">(</span><span style=\"color: #008080; text-decoration-color: #008080; font-weight: bold\">2021</span>, <span style=\"color: #008080; text-decoration-color: #008080; font-weight: bold\">2</span>, <span style=\"color: #008080; text-decoration-color: #008080; font-weight: bold\">12</span><span style=\"font-weight: bold\">)</span>, <span style=\"color: #008000; text-decoration-color: #008000\">'RanbirS00614606'</span><span style=\"font-weight: bold\">)</span>,\n",
       "    <span style=\"font-weight: bold\">(</span><span style=\"color: #800080; text-decoration-color: #800080; font-weight: bold\">datetime.date</span><span style=\"font-weight: bold\">(</span><span style=\"color: #008080; text-decoration-color: #008080; font-weight: bold\">2021</span>, <span style=\"color: #008080; text-decoration-color: #008080; font-weight: bold\">2</span>, <span style=\"color: #008080; text-decoration-color: #008080; font-weight: bold\">13</span><span style=\"font-weight: bold\">)</span>, <span style=\"color: #008000; text-decoration-color: #008000\">'MaanDee08215437'</span><span style=\"font-weight: bold\">)</span>,\n",
       "    <span style=\"font-weight: bold\">(</span><span style=\"color: #800080; text-decoration-color: #800080; font-weight: bold\">datetime.date</span><span style=\"font-weight: bold\">(</span><span style=\"color: #008080; text-decoration-color: #008080; font-weight: bold\">2021</span>, <span style=\"color: #008080; text-decoration-color: #008080; font-weight: bold\">2</span>, <span style=\"color: #008080; text-decoration-color: #008080; font-weight: bold\">17</span><span style=\"font-weight: bold\">)</span>, <span style=\"color: #008000; text-decoration-color: #008000\">'RaaJVinderkaur'</span><span style=\"font-weight: bold\">)</span>,\n",
       "    <span style=\"font-weight: bold\">(</span><span style=\"color: #800080; text-decoration-color: #800080; font-weight: bold\">datetime.date</span><span style=\"font-weight: bold\">(</span><span style=\"color: #008080; text-decoration-color: #008080; font-weight: bold\">2021</span>, <span style=\"color: #008080; text-decoration-color: #008080; font-weight: bold\">2</span>, <span style=\"color: #008080; text-decoration-color: #008080; font-weight: bold\">16</span><span style=\"font-weight: bold\">)</span>, <span style=\"color: #008000; text-decoration-color: #008000\">'jot__b'</span><span style=\"font-weight: bold\">)</span>,\n",
       "    <span style=\"font-weight: bold\">(</span><span style=\"color: #800080; text-decoration-color: #800080; font-weight: bold\">datetime.date</span><span style=\"font-weight: bold\">(</span><span style=\"color: #008080; text-decoration-color: #008080; font-weight: bold\">2021</span>, <span style=\"color: #008080; text-decoration-color: #008080; font-weight: bold\">2</span>, <span style=\"color: #008080; text-decoration-color: #008080; font-weight: bold\">14</span><span style=\"font-weight: bold\">)</span>, <span style=\"color: #008000; text-decoration-color: #008000\">'rebelpacifist'</span><span style=\"font-weight: bold\">)</span>,\n",
       "    <span style=\"font-weight: bold\">(</span><span style=\"color: #800080; text-decoration-color: #800080; font-weight: bold\">datetime.date</span><span style=\"font-weight: bold\">(</span><span style=\"color: #008080; text-decoration-color: #008080; font-weight: bold\">2021</span>, <span style=\"color: #008080; text-decoration-color: #008080; font-weight: bold\">2</span>, <span style=\"color: #008080; text-decoration-color: #008080; font-weight: bold\">18</span><span style=\"font-weight: bold\">)</span>, <span style=\"color: #008000; text-decoration-color: #008000\">'neetuanjle_nitu'</span><span style=\"font-weight: bold\">)</span>,\n",
       "    <span style=\"font-weight: bold\">(</span><span style=\"color: #800080; text-decoration-color: #800080; font-weight: bold\">datetime.date</span><span style=\"font-weight: bold\">(</span><span style=\"color: #008080; text-decoration-color: #008080; font-weight: bold\">2021</span>, <span style=\"color: #008080; text-decoration-color: #008080; font-weight: bold\">2</span>, <span style=\"color: #008080; text-decoration-color: #008080; font-weight: bold\">15</span><span style=\"font-weight: bold\">)</span>, <span style=\"color: #008000; text-decoration-color: #008000\">'jot__b'</span><span style=\"font-weight: bold\">)</span>,\n",
       "    <span style=\"font-weight: bold\">(</span><span style=\"color: #800080; text-decoration-color: #800080; font-weight: bold\">datetime.date</span><span style=\"font-weight: bold\">(</span><span style=\"color: #008080; text-decoration-color: #008080; font-weight: bold\">2021</span>, <span style=\"color: #008080; text-decoration-color: #008080; font-weight: bold\">2</span>, <span style=\"color: #008080; text-decoration-color: #008080; font-weight: bold\">20</span><span style=\"font-weight: bold\">)</span>, <span style=\"color: #008000; text-decoration-color: #008000\">'MangalJ23056160'</span><span style=\"font-weight: bold\">)</span>,\n",
       "    <span style=\"font-weight: bold\">(</span><span style=\"color: #800080; text-decoration-color: #800080; font-weight: bold\">datetime.date</span><span style=\"font-weight: bold\">(</span><span style=\"color: #008080; text-decoration-color: #008080; font-weight: bold\">2021</span>, <span style=\"color: #008080; text-decoration-color: #008080; font-weight: bold\">2</span>, <span style=\"color: #008080; text-decoration-color: #008080; font-weight: bold\">23</span><span style=\"font-weight: bold\">)</span>, <span style=\"color: #008000; text-decoration-color: #008000\">'Surrypuria'</span><span style=\"font-weight: bold\">)</span>,\n",
       "    <span style=\"font-weight: bold\">(</span><span style=\"color: #800080; text-decoration-color: #800080; font-weight: bold\">datetime.date</span><span style=\"font-weight: bold\">(</span><span style=\"color: #008080; text-decoration-color: #008080; font-weight: bold\">2021</span>, <span style=\"color: #008080; text-decoration-color: #008080; font-weight: bold\">2</span>, <span style=\"color: #008080; text-decoration-color: #008080; font-weight: bold\">19</span><span style=\"font-weight: bold\">)</span>, <span style=\"color: #008000; text-decoration-color: #008000\">'Preetm91'</span><span style=\"font-weight: bold\">)</span>\n",
       "<span style=\"font-weight: bold\">]</span>\n",
       "</pre>\n"
      ],
      "text/plain": [
       "\u001b[1m[\u001b[0m\n",
       "    \u001b[1m(\u001b[0m\u001b[1;35mdatetime.date\u001b[0m\u001b[1m(\u001b[0m\u001b[1;36m2021\u001b[0m, \u001b[1;36m2\u001b[0m, \u001b[1;36m12\u001b[0m\u001b[1m)\u001b[0m, \u001b[32m'RanbirS00614606'\u001b[0m\u001b[1m)\u001b[0m,\n",
       "    \u001b[1m(\u001b[0m\u001b[1;35mdatetime.date\u001b[0m\u001b[1m(\u001b[0m\u001b[1;36m2021\u001b[0m, \u001b[1;36m2\u001b[0m, \u001b[1;36m13\u001b[0m\u001b[1m)\u001b[0m, \u001b[32m'MaanDee08215437'\u001b[0m\u001b[1m)\u001b[0m,\n",
       "    \u001b[1m(\u001b[0m\u001b[1;35mdatetime.date\u001b[0m\u001b[1m(\u001b[0m\u001b[1;36m2021\u001b[0m, \u001b[1;36m2\u001b[0m, \u001b[1;36m17\u001b[0m\u001b[1m)\u001b[0m, \u001b[32m'RaaJVinderkaur'\u001b[0m\u001b[1m)\u001b[0m,\n",
       "    \u001b[1m(\u001b[0m\u001b[1;35mdatetime.date\u001b[0m\u001b[1m(\u001b[0m\u001b[1;36m2021\u001b[0m, \u001b[1;36m2\u001b[0m, \u001b[1;36m16\u001b[0m\u001b[1m)\u001b[0m, \u001b[32m'jot__b'\u001b[0m\u001b[1m)\u001b[0m,\n",
       "    \u001b[1m(\u001b[0m\u001b[1;35mdatetime.date\u001b[0m\u001b[1m(\u001b[0m\u001b[1;36m2021\u001b[0m, \u001b[1;36m2\u001b[0m, \u001b[1;36m14\u001b[0m\u001b[1m)\u001b[0m, \u001b[32m'rebelpacifist'\u001b[0m\u001b[1m)\u001b[0m,\n",
       "    \u001b[1m(\u001b[0m\u001b[1;35mdatetime.date\u001b[0m\u001b[1m(\u001b[0m\u001b[1;36m2021\u001b[0m, \u001b[1;36m2\u001b[0m, \u001b[1;36m18\u001b[0m\u001b[1m)\u001b[0m, \u001b[32m'neetuanjle_nitu'\u001b[0m\u001b[1m)\u001b[0m,\n",
       "    \u001b[1m(\u001b[0m\u001b[1;35mdatetime.date\u001b[0m\u001b[1m(\u001b[0m\u001b[1;36m2021\u001b[0m, \u001b[1;36m2\u001b[0m, \u001b[1;36m15\u001b[0m\u001b[1m)\u001b[0m, \u001b[32m'jot__b'\u001b[0m\u001b[1m)\u001b[0m,\n",
       "    \u001b[1m(\u001b[0m\u001b[1;35mdatetime.date\u001b[0m\u001b[1m(\u001b[0m\u001b[1;36m2021\u001b[0m, \u001b[1;36m2\u001b[0m, \u001b[1;36m20\u001b[0m\u001b[1m)\u001b[0m, \u001b[32m'MangalJ23056160'\u001b[0m\u001b[1m)\u001b[0m,\n",
       "    \u001b[1m(\u001b[0m\u001b[1;35mdatetime.date\u001b[0m\u001b[1m(\u001b[0m\u001b[1;36m2021\u001b[0m, \u001b[1;36m2\u001b[0m, \u001b[1;36m23\u001b[0m\u001b[1m)\u001b[0m, \u001b[32m'Surrypuria'\u001b[0m\u001b[1m)\u001b[0m,\n",
       "    \u001b[1m(\u001b[0m\u001b[1;35mdatetime.date\u001b[0m\u001b[1m(\u001b[0m\u001b[1;36m2021\u001b[0m, \u001b[1;36m2\u001b[0m, \u001b[1;36m19\u001b[0m\u001b[1m)\u001b[0m, \u001b[32m'Preetm91'\u001b[0m\u001b[1m)\u001b[0m\n",
       "\u001b[1m]\u001b[0m\n"
      ]
     },
     "metadata": {},
     "output_type": "display_data"
    }
   ],
   "source": [
    "resultados = q1_memory(file_path)\n",
    "\n",
    "print(\"\\nRESULTADOS MEMORIA:\")\n",
    "print(resultados)"
   ]
  },
  {
   "cell_type": "markdown",
   "metadata": {},
   "source": [
    "> Como dije arriba, ejecutar este script por fuera del notebook mejora significativamente el uso de memoria\n",
    "\n",
    "```sh\n",
    "\n",
    "📊 Métricas de Tiempo            \n",
    "┏━━━━━━━━━━━━━━━━━━━━━━━━┳━━━━━━━━━━━━━━━━━┓\n",
    "┃ Fase                   ┃        Duración ┃\n",
    "┡━━━━━━━━━━━━━━━━━━━━━━━━╇━━━━━━━━━━━━━━━━━┩\n",
    "│ Conexión y preparación │ 1.0399 segundos │\n",
    "│ Lectura del archivo    │ 5.2299 segundos │\n",
    "│ Análisis y consulta    │ 0.0082 segundos │\n",
    "│ TOTAL                  │ 7.3152 segundos │\n",
    "└────────────────────────┴─────────────────┘\n",
    "      💾 Métricas de Memoria (MB)       \n",
    "┏━━━━━━━━━━━━━━━━━━━━━┳━━━━━━━┳━━━━━━━━┓\n",
    "┃ Fase                ┃ Valor ┃      Δ ┃\n",
    "┡━━━━━━━━━━━━━━━━━━━━━╇━━━━━━━╇━━━━━━━━┩\n",
    "│ Memoria base        │ 51.57 │        │\n",
    "│ Después de conexión │  0.00 │ -51.57 │\n",
    "│ Después de lectura  │ 57.25 │ +57.25 │\n",
    "│ Después de consulta │ 57.26 │  +0.01 │\n",
    "│ Consumo máximo      │ 57.26 │        │\n",
    "└─────────────────────┴───────┴────────┘\n",
    "\n",
    "```"
   ]
  },
  {
   "cell_type": "markdown",
   "metadata": {},
   "source": [
    "# Q2"
   ]
  },
  {
   "cell_type": "markdown",
   "metadata": {},
   "source": [
    "## Time"
   ]
  },
  {
   "cell_type": "code",
   "execution_count": 8,
   "metadata": {},
   "outputs": [],
   "source": [
    "from q2_time import q2_time"
   ]
  },
  {
   "cell_type": "code",
   "execution_count": 9,
   "metadata": {},
   "outputs": [
    {
     "data": {
      "text/html": [
       "<pre style=\"white-space:pre;overflow-x:auto;line-height:normal;font-family:Menlo,'DejaVu Sans Mono',consolas,'Courier New',monospace\"><span style=\"font-style: italic\">            📊 </span><span style=\"font-weight: bold; font-style: italic\">Métricas de Tiempo</span><span style=\"font-style: italic\">            </span>\n",
       "┏━━━━━━━━━━━━━━━━━━━━━━━━┳━━━━━━━━━━━━━━━━━━┓\n",
       "┃<span style=\"color: #800080; text-decoration-color: #800080; font-weight: bold\"> Fase                   </span>┃<span style=\"color: #800080; text-decoration-color: #800080; font-weight: bold\">         Duración </span>┃\n",
       "┡━━━━━━━━━━━━━━━━━━━━━━━━╇━━━━━━━━━━━━━━━━━━┩\n",
       "│<span style=\"color: #008080; text-decoration-color: #008080\"> Conexión y preparación </span>│  2.0870 segundos │\n",
       "│<span style=\"color: #008080; text-decoration-color: #008080\"> Lectura del archivo    </span>│  3.5144 segundos │\n",
       "│<span style=\"color: #008080; text-decoration-color: #008080\"> Análisis y consulta    </span>│ 55.0531 segundos │\n",
       "│<span style=\"color: #008080; text-decoration-color: #008080\"> </span><span style=\"color: #008080; text-decoration-color: #008080; font-weight: bold\">TOTAL</span><span style=\"color: #008080; text-decoration-color: #008080\">                  </span>│ <span style=\"font-weight: bold\">62.7936 segundos</span> │\n",
       "└────────────────────────┴──────────────────┘\n",
       "</pre>\n"
      ],
      "text/plain": [
       "\u001b[3m            📊 \u001b[0m\u001b[1;3mMétricas de Tiempo\u001b[0m\u001b[3m            \u001b[0m\n",
       "┏━━━━━━━━━━━━━━━━━━━━━━━━┳━━━━━━━━━━━━━━━━━━┓\n",
       "┃\u001b[1;35m \u001b[0m\u001b[1;35mFase                  \u001b[0m\u001b[1;35m \u001b[0m┃\u001b[1;35m \u001b[0m\u001b[1;35m        Duración\u001b[0m\u001b[1;35m \u001b[0m┃\n",
       "┡━━━━━━━━━━━━━━━━━━━━━━━━╇━━━━━━━━━━━━━━━━━━┩\n",
       "│\u001b[36m \u001b[0m\u001b[36mConexión y preparación\u001b[0m\u001b[36m \u001b[0m│  2.0870 segundos │\n",
       "│\u001b[36m \u001b[0m\u001b[36mLectura del archivo   \u001b[0m\u001b[36m \u001b[0m│  3.5144 segundos │\n",
       "│\u001b[36m \u001b[0m\u001b[36mAnálisis y consulta   \u001b[0m\u001b[36m \u001b[0m│ 55.0531 segundos │\n",
       "│\u001b[36m \u001b[0m\u001b[1;36mTOTAL\u001b[0m\u001b[36m                 \u001b[0m\u001b[36m \u001b[0m│ \u001b[1m62.7936 segundos\u001b[0m │\n",
       "└────────────────────────┴──────────────────┘\n"
      ]
     },
     "metadata": {},
     "output_type": "display_data"
    },
    {
     "data": {
      "text/html": [
       "<pre style=\"white-space:pre;overflow-x:auto;line-height:normal;font-family:Menlo,'DejaVu Sans Mono',consolas,'Courier New',monospace\"><span style=\"font-style: italic\">       💾 </span><span style=\"font-weight: bold; font-style: italic\">Métricas de Memoria (MB)</span><span style=\"font-style: italic\">        </span>\n",
       "┏━━━━━━━━━━━━━━━━━━━━━┳━━━━━━━━┳━━━━━━━━━┓\n",
       "┃<span style=\"color: #000080; text-decoration-color: #000080; font-weight: bold\"> Fase                </span>┃<span style=\"color: #000080; text-decoration-color: #000080; font-weight: bold\">  Valor </span>┃<span style=\"color: #000080; text-decoration-color: #000080; font-weight: bold\">       Δ </span>┃\n",
       "┡━━━━━━━━━━━━━━━━━━━━━╇━━━━━━━━╇━━━━━━━━━┩\n",
       "│<span style=\"color: #008080; text-decoration-color: #008080\"> Memoria base        </span>│  68.85 │         │\n",
       "│<span style=\"color: #008080; text-decoration-color: #008080\"> Después de conexión </span>│  70.79 │   <span style=\"color: #008000; text-decoration-color: #008000\">+1.94</span> │\n",
       "│<span style=\"color: #008080; text-decoration-color: #008080\"> Después de lectura  </span>│ 575.60 │ <span style=\"color: #008000; text-decoration-color: #008000\">+504.81</span> │\n",
       "│<span style=\"color: #008080; text-decoration-color: #008080\"> Después de consulta </span>│ 569.56 │   <span style=\"color: #800000; text-decoration-color: #800000\">-6.04</span> │\n",
       "│<span style=\"color: #008080; text-decoration-color: #008080\"> </span><span style=\"color: #008080; text-decoration-color: #008080; font-weight: bold\">Consumo máximo</span><span style=\"color: #008080; text-decoration-color: #008080\">      </span>│ <span style=\"font-weight: bold\">575.60</span> │         │\n",
       "└─────────────────────┴────────┴─────────┘\n",
       "</pre>\n"
      ],
      "text/plain": [
       "\u001b[3m       💾 \u001b[0m\u001b[1;3mMétricas de Memoria (MB)\u001b[0m\u001b[3m        \u001b[0m\n",
       "┏━━━━━━━━━━━━━━━━━━━━━┳━━━━━━━━┳━━━━━━━━━┓\n",
       "┃\u001b[1;34m \u001b[0m\u001b[1;34mFase               \u001b[0m\u001b[1;34m \u001b[0m┃\u001b[1;34m \u001b[0m\u001b[1;34m Valor\u001b[0m\u001b[1;34m \u001b[0m┃\u001b[1;34m \u001b[0m\u001b[1;34m      Δ\u001b[0m\u001b[1;34m \u001b[0m┃\n",
       "┡━━━━━━━━━━━━━━━━━━━━━╇━━━━━━━━╇━━━━━━━━━┩\n",
       "│\u001b[36m \u001b[0m\u001b[36mMemoria base       \u001b[0m\u001b[36m \u001b[0m│  68.85 │         │\n",
       "│\u001b[36m \u001b[0m\u001b[36mDespués de conexión\u001b[0m\u001b[36m \u001b[0m│  70.79 │   \u001b[32m+1.94\u001b[0m │\n",
       "│\u001b[36m \u001b[0m\u001b[36mDespués de lectura \u001b[0m\u001b[36m \u001b[0m│ 575.60 │ \u001b[32m+504.81\u001b[0m │\n",
       "│\u001b[36m \u001b[0m\u001b[36mDespués de consulta\u001b[0m\u001b[36m \u001b[0m│ 569.56 │   \u001b[31m-6.04\u001b[0m │\n",
       "│\u001b[36m \u001b[0m\u001b[1;36mConsumo máximo\u001b[0m\u001b[36m     \u001b[0m\u001b[36m \u001b[0m│ \u001b[1m575.60\u001b[0m │         │\n",
       "└─────────────────────┴────────┴─────────┘\n"
      ]
     },
     "metadata": {},
     "output_type": "display_data"
    },
    {
     "data": {
      "text/html": [
       "<pre style=\"white-space:pre;overflow-x:auto;line-height:normal;font-family:Menlo,'DejaVu Sans Mono',consolas,'Courier New',monospace\">\n",
       "RESULTADOS TIEMPO:\n",
       "</pre>\n"
      ],
      "text/plain": [
       "\n",
       "RESULTADOS TIEMPO:\n"
      ]
     },
     "metadata": {},
     "output_type": "display_data"
    },
    {
     "data": {
      "text/html": [
       "<pre style=\"white-space:pre;overflow-x:auto;line-height:normal;font-family:Menlo,'DejaVu Sans Mono',consolas,'Courier New',monospace\"><span style=\"font-weight: bold\">[</span>\n",
       "    <span style=\"font-weight: bold\">(</span><span style=\"color: #008000; text-decoration-color: #008000\">'🙏'</span>, <span style=\"color: #008080; text-decoration-color: #008080; font-weight: bold\">5049</span><span style=\"font-weight: bold\">)</span>,\n",
       "    <span style=\"font-weight: bold\">(</span><span style=\"color: #008000; text-decoration-color: #008000\">'😂'</span>, <span style=\"color: #008080; text-decoration-color: #008080; font-weight: bold\">3072</span><span style=\"font-weight: bold\">)</span>,\n",
       "    <span style=\"font-weight: bold\">(</span><span style=\"color: #008000; text-decoration-color: #008000\">'🚜'</span>, <span style=\"color: #008080; text-decoration-color: #008080; font-weight: bold\">2972</span><span style=\"font-weight: bold\">)</span>,\n",
       "    <span style=\"font-weight: bold\">(</span><span style=\"color: #008000; text-decoration-color: #008000\">'🌾'</span>, <span style=\"color: #008080; text-decoration-color: #008080; font-weight: bold\">2182</span><span style=\"font-weight: bold\">)</span>,\n",
       "    <span style=\"font-weight: bold\">(</span><span style=\"color: #008000; text-decoration-color: #008000\">'🇮🇳'</span>, <span style=\"color: #008080; text-decoration-color: #008080; font-weight: bold\">2086</span><span style=\"font-weight: bold\">)</span>,\n",
       "    <span style=\"font-weight: bold\">(</span><span style=\"color: #008000; text-decoration-color: #008000\">'🤣'</span>, <span style=\"color: #008080; text-decoration-color: #008080; font-weight: bold\">1668</span><span style=\"font-weight: bold\">)</span>,\n",
       "    <span style=\"font-weight: bold\">(</span><span style=\"color: #008000; text-decoration-color: #008000\">'✊'</span>, <span style=\"color: #008080; text-decoration-color: #008080; font-weight: bold\">1651</span><span style=\"font-weight: bold\">)</span>,\n",
       "    <span style=\"font-weight: bold\">(</span><span style=\"color: #008000; text-decoration-color: #008000\">'❤️'</span>, <span style=\"color: #008080; text-decoration-color: #008080; font-weight: bold\">1382</span><span style=\"font-weight: bold\">)</span>,\n",
       "    <span style=\"font-weight: bold\">(</span><span style=\"color: #008000; text-decoration-color: #008000\">'🙏🏻'</span>, <span style=\"color: #008080; text-decoration-color: #008080; font-weight: bold\">1317</span><span style=\"font-weight: bold\">)</span>,\n",
       "    <span style=\"font-weight: bold\">(</span><span style=\"color: #008000; text-decoration-color: #008000\">'💚'</span>, <span style=\"color: #008080; text-decoration-color: #008080; font-weight: bold\">1040</span><span style=\"font-weight: bold\">)</span>\n",
       "<span style=\"font-weight: bold\">]</span>\n",
       "</pre>\n"
      ],
      "text/plain": [
       "\u001b[1m[\u001b[0m\n",
       "    \u001b[1m(\u001b[0m\u001b[32m'🙏'\u001b[0m, \u001b[1;36m5049\u001b[0m\u001b[1m)\u001b[0m,\n",
       "    \u001b[1m(\u001b[0m\u001b[32m'😂'\u001b[0m, \u001b[1;36m3072\u001b[0m\u001b[1m)\u001b[0m,\n",
       "    \u001b[1m(\u001b[0m\u001b[32m'🚜'\u001b[0m, \u001b[1;36m2972\u001b[0m\u001b[1m)\u001b[0m,\n",
       "    \u001b[1m(\u001b[0m\u001b[32m'🌾'\u001b[0m, \u001b[1;36m2182\u001b[0m\u001b[1m)\u001b[0m,\n",
       "    \u001b[1m(\u001b[0m\u001b[32m'🇮🇳'\u001b[0m, \u001b[1;36m2086\u001b[0m\u001b[1m)\u001b[0m,\n",
       "    \u001b[1m(\u001b[0m\u001b[32m'🤣'\u001b[0m, \u001b[1;36m1668\u001b[0m\u001b[1m)\u001b[0m,\n",
       "    \u001b[1m(\u001b[0m\u001b[32m'✊'\u001b[0m, \u001b[1;36m1651\u001b[0m\u001b[1m)\u001b[0m,\n",
       "    \u001b[1m(\u001b[0m\u001b[32m'❤️'\u001b[0m, \u001b[1;36m1382\u001b[0m\u001b[1m)\u001b[0m,\n",
       "    \u001b[1m(\u001b[0m\u001b[32m'🙏🏻'\u001b[0m, \u001b[1;36m1317\u001b[0m\u001b[1m)\u001b[0m,\n",
       "    \u001b[1m(\u001b[0m\u001b[32m'💚'\u001b[0m, \u001b[1;36m1040\u001b[0m\u001b[1m)\u001b[0m\n",
       "\u001b[1m]\u001b[0m\n"
      ]
     },
     "metadata": {},
     "output_type": "display_data"
    }
   ],
   "source": [
    "# Ejecutar la función\n",
    "resultados = q2_time(file_path)\n",
    "\n",
    "# Mostrar resultados\n",
    "print(\"\\nRESULTADOS TIEMPO:\")\n",
    "print(resultados)"
   ]
  },
  {
   "cell_type": "markdown",
   "metadata": {},
   "source": [
    "He querido mantener el analisis de este segundo challenge utilizando duckdb para demostrar la potencia de este motor analitico embebido, pero he visto que el analisis de los emojis es computacionalmete hablando pesado y le ha llevado algo de tiempo, mas en el notebook. \n",
    "\n",
    "Al ejecutar el script tenemos estos valores:\n",
    "\n",
    "```sh\n",
    "\n",
    "            📊 Métricas de Tiempo            \n",
    "┏━━━━━━━━━━━━━━━━━━━━━━━━┳━━━━━━━━━━━━━━━━━━┓\n",
    "┃ Fase                   ┃         Duración ┃\n",
    "┡━━━━━━━━━━━━━━━━━━━━━━━━╇━━━━━━━━━━━━━━━━━━┩\n",
    "│ Conexión y preparación │  2.1036 segundos │\n",
    "│ Lectura del archivo    │  2.9733 segundos │\n",
    "│ Análisis y consulta    │ 32.5318 segundos │\n",
    "│ TOTAL                  │ 39.7743 segundos │\n",
    "└────────────────────────┴──────────────────┘\n",
    "\n",
    "       💾 Métricas de Memoria (MB)        \n",
    "┏━━━━━━━━━━━━━━━━━━━━━┳━━━━━━━━┳━━━━━━━━━┓\n",
    "┃ Fase                ┃  Valor ┃       Δ ┃\n",
    "┡━━━━━━━━━━━━━━━━━━━━━╇━━━━━━━━╇━━━━━━━━━┩\n",
    "│ Memoria base        │  58.87 │         │\n",
    "│ Después de conexión │  65.99 │   +7.12 │\n",
    "│ Después de lectura  │ 574.76 │ +508.77 │\n",
    "│ Después de consulta │ 566.49 │   -8.27 │\n",
    "│ Consumo máximo      │ 574.76 │         │\n",
    "└─────────────────────┴────────┴─────────┘\n",
    "```"
   ]
  },
  {
   "cell_type": "markdown",
   "metadata": {},
   "source": [
    "Se puede observar como el tiempo de analisis y consulta se reduce bastante con el ejecutado utilizando el notebook."
   ]
  },
  {
   "cell_type": "markdown",
   "metadata": {},
   "source": [
    "## Memory"
   ]
  },
  {
   "cell_type": "code",
   "execution_count": 10,
   "metadata": {},
   "outputs": [],
   "source": [
    "from q2_memory import q2_memory"
   ]
  },
  {
   "cell_type": "code",
   "execution_count": 12,
   "metadata": {},
   "outputs": [
    {
     "data": {
      "text/html": [
       "<pre style=\"white-space:pre;overflow-x:auto;line-height:normal;font-family:Menlo,'DejaVu Sans Mono',consolas,'Courier New',monospace\"><span style=\"font-style: italic\">            📊 </span><span style=\"font-weight: bold; font-style: italic\">Métricas de Tiempo</span><span style=\"font-style: italic\">            </span>\n",
       "┏━━━━━━━━━━━━━━━━━━━━━━━━┳━━━━━━━━━━━━━━━━━━┓\n",
       "┃<span style=\"color: #800080; text-decoration-color: #800080; font-weight: bold\"> Fase                   </span>┃<span style=\"color: #800080; text-decoration-color: #800080; font-weight: bold\">         Duración </span>┃\n",
       "┡━━━━━━━━━━━━━━━━━━━━━━━━╇━━━━━━━━━━━━━━━━━━┩\n",
       "│<span style=\"color: #008080; text-decoration-color: #008080\"> Conexión y preparación </span>│  1.0339 segundos │\n",
       "│<span style=\"color: #008080; text-decoration-color: #008080\"> Lectura del archivo    </span>│ 14.0826 segundos │\n",
       "│<span style=\"color: #008080; text-decoration-color: #008080\"> Análisis y consulta    </span>│  0.0004 segundos │\n",
       "│<span style=\"color: #008080; text-decoration-color: #008080\"> </span><span style=\"color: #008080; text-decoration-color: #008080; font-weight: bold\">TOTAL</span><span style=\"color: #008080; text-decoration-color: #008080\">                  </span>│ <span style=\"font-weight: bold\">16.1499 segundos</span> │\n",
       "└────────────────────────┴──────────────────┘\n",
       "</pre>\n"
      ],
      "text/plain": [
       "\u001b[3m            📊 \u001b[0m\u001b[1;3mMétricas de Tiempo\u001b[0m\u001b[3m            \u001b[0m\n",
       "┏━━━━━━━━━━━━━━━━━━━━━━━━┳━━━━━━━━━━━━━━━━━━┓\n",
       "┃\u001b[1;35m \u001b[0m\u001b[1;35mFase                  \u001b[0m\u001b[1;35m \u001b[0m┃\u001b[1;35m \u001b[0m\u001b[1;35m        Duración\u001b[0m\u001b[1;35m \u001b[0m┃\n",
       "┡━━━━━━━━━━━━━━━━━━━━━━━━╇━━━━━━━━━━━━━━━━━━┩\n",
       "│\u001b[36m \u001b[0m\u001b[36mConexión y preparación\u001b[0m\u001b[36m \u001b[0m│  1.0339 segundos │\n",
       "│\u001b[36m \u001b[0m\u001b[36mLectura del archivo   \u001b[0m\u001b[36m \u001b[0m│ 14.0826 segundos │\n",
       "│\u001b[36m \u001b[0m\u001b[36mAnálisis y consulta   \u001b[0m\u001b[36m \u001b[0m│  0.0004 segundos │\n",
       "│\u001b[36m \u001b[0m\u001b[1;36mTOTAL\u001b[0m\u001b[36m                 \u001b[0m\u001b[36m \u001b[0m│ \u001b[1m16.1499 segundos\u001b[0m │\n",
       "└────────────────────────┴──────────────────┘\n"
      ]
     },
     "metadata": {},
     "output_type": "display_data"
    },
    {
     "data": {
      "text/html": [
       "<pre style=\"white-space:pre;overflow-x:auto;line-height:normal;font-family:Menlo,'DejaVu Sans Mono',consolas,'Courier New',monospace\"><span style=\"font-style: italic\">      💾 </span><span style=\"font-weight: bold; font-style: italic\">Métricas de Memoria (MB)</span><span style=\"font-style: italic\">       </span>\n",
       "┏━━━━━━━━━━━━━━━━━━━━━┳━━━━━━━┳━━━━━━━━┓\n",
       "┃<span style=\"color: #000080; text-decoration-color: #000080; font-weight: bold\"> Fase                </span>┃<span style=\"color: #000080; text-decoration-color: #000080; font-weight: bold\"> Valor </span>┃<span style=\"color: #000080; text-decoration-color: #000080; font-weight: bold\">      Δ </span>┃\n",
       "┡━━━━━━━━━━━━━━━━━━━━━╇━━━━━━━╇━━━━━━━━┩\n",
       "│<span style=\"color: #008080; text-decoration-color: #008080\"> Memoria base        </span>│ 94.39 │        │\n",
       "│<span style=\"color: #008080; text-decoration-color: #008080\"> Después de conexión </span>│  0.00 │ <span style=\"color: #008000; text-decoration-color: #008000\">-94.39</span> │\n",
       "│<span style=\"color: #008080; text-decoration-color: #008080\"> Después de lectura  </span>│ 94.57 │ <span style=\"color: #008000; text-decoration-color: #008000\">+94.57</span> │\n",
       "│<span style=\"color: #008080; text-decoration-color: #008080\"> Después de consulta </span>│ 94.59 │  <span style=\"color: #800000; text-decoration-color: #800000\">+0.02</span> │\n",
       "│<span style=\"color: #008080; text-decoration-color: #008080\"> </span><span style=\"color: #008080; text-decoration-color: #008080; font-weight: bold\">Consumo máximo</span><span style=\"color: #008080; text-decoration-color: #008080\">      </span>│ <span style=\"font-weight: bold\">94.59</span> │        │\n",
       "└─────────────────────┴───────┴────────┘\n",
       "</pre>\n"
      ],
      "text/plain": [
       "\u001b[3m      💾 \u001b[0m\u001b[1;3mMétricas de Memoria (MB)\u001b[0m\u001b[3m       \u001b[0m\n",
       "┏━━━━━━━━━━━━━━━━━━━━━┳━━━━━━━┳━━━━━━━━┓\n",
       "┃\u001b[1;34m \u001b[0m\u001b[1;34mFase               \u001b[0m\u001b[1;34m \u001b[0m┃\u001b[1;34m \u001b[0m\u001b[1;34mValor\u001b[0m\u001b[1;34m \u001b[0m┃\u001b[1;34m \u001b[0m\u001b[1;34m     Δ\u001b[0m\u001b[1;34m \u001b[0m┃\n",
       "┡━━━━━━━━━━━━━━━━━━━━━╇━━━━━━━╇━━━━━━━━┩\n",
       "│\u001b[36m \u001b[0m\u001b[36mMemoria base       \u001b[0m\u001b[36m \u001b[0m│ 94.39 │        │\n",
       "│\u001b[36m \u001b[0m\u001b[36mDespués de conexión\u001b[0m\u001b[36m \u001b[0m│  0.00 │ \u001b[32m-94.39\u001b[0m │\n",
       "│\u001b[36m \u001b[0m\u001b[36mDespués de lectura \u001b[0m\u001b[36m \u001b[0m│ 94.57 │ \u001b[32m+94.57\u001b[0m │\n",
       "│\u001b[36m \u001b[0m\u001b[36mDespués de consulta\u001b[0m\u001b[36m \u001b[0m│ 94.59 │  \u001b[31m+0.02\u001b[0m │\n",
       "│\u001b[36m \u001b[0m\u001b[1;36mConsumo máximo\u001b[0m\u001b[36m     \u001b[0m\u001b[36m \u001b[0m│ \u001b[1m94.59\u001b[0m │        │\n",
       "└─────────────────────┴───────┴────────┘\n"
      ]
     },
     "metadata": {},
     "output_type": "display_data"
    },
    {
     "data": {
      "text/html": [
       "<pre style=\"white-space:pre;overflow-x:auto;line-height:normal;font-family:Menlo,'DejaVu Sans Mono',consolas,'Courier New',monospace\">\n",
       "RESULTADOS TIEMPO:\n",
       "</pre>\n"
      ],
      "text/plain": [
       "\n",
       "RESULTADOS TIEMPO:\n"
      ]
     },
     "metadata": {},
     "output_type": "display_data"
    },
    {
     "data": {
      "text/html": [
       "<pre style=\"white-space:pre;overflow-x:auto;line-height:normal;font-family:Menlo,'DejaVu Sans Mono',consolas,'Courier New',monospace\"><span style=\"font-weight: bold\">[</span>\n",
       "    <span style=\"font-weight: bold\">(</span><span style=\"color: #008000; text-decoration-color: #008000\">'🙏'</span>, <span style=\"color: #008080; text-decoration-color: #008080; font-weight: bold\">5049</span><span style=\"font-weight: bold\">)</span>,\n",
       "    <span style=\"font-weight: bold\">(</span><span style=\"color: #008000; text-decoration-color: #008000\">'😂'</span>, <span style=\"color: #008080; text-decoration-color: #008080; font-weight: bold\">3072</span><span style=\"font-weight: bold\">)</span>,\n",
       "    <span style=\"font-weight: bold\">(</span><span style=\"color: #008000; text-decoration-color: #008000\">'🚜'</span>, <span style=\"color: #008080; text-decoration-color: #008080; font-weight: bold\">2972</span><span style=\"font-weight: bold\">)</span>,\n",
       "    <span style=\"font-weight: bold\">(</span><span style=\"color: #008000; text-decoration-color: #008000\">'🌾'</span>, <span style=\"color: #008080; text-decoration-color: #008080; font-weight: bold\">2182</span><span style=\"font-weight: bold\">)</span>,\n",
       "    <span style=\"font-weight: bold\">(</span><span style=\"color: #008000; text-decoration-color: #008000\">'🇮🇳'</span>, <span style=\"color: #008080; text-decoration-color: #008080; font-weight: bold\">2086</span><span style=\"font-weight: bold\">)</span>,\n",
       "    <span style=\"font-weight: bold\">(</span><span style=\"color: #008000; text-decoration-color: #008000\">'🤣'</span>, <span style=\"color: #008080; text-decoration-color: #008080; font-weight: bold\">1668</span><span style=\"font-weight: bold\">)</span>,\n",
       "    <span style=\"font-weight: bold\">(</span><span style=\"color: #008000; text-decoration-color: #008000\">'✊'</span>, <span style=\"color: #008080; text-decoration-color: #008080; font-weight: bold\">1651</span><span style=\"font-weight: bold\">)</span>,\n",
       "    <span style=\"font-weight: bold\">(</span><span style=\"color: #008000; text-decoration-color: #008000\">'❤️'</span>, <span style=\"color: #008080; text-decoration-color: #008080; font-weight: bold\">1382</span><span style=\"font-weight: bold\">)</span>,\n",
       "    <span style=\"font-weight: bold\">(</span><span style=\"color: #008000; text-decoration-color: #008000\">'🙏🏻'</span>, <span style=\"color: #008080; text-decoration-color: #008080; font-weight: bold\">1317</span><span style=\"font-weight: bold\">)</span>,\n",
       "    <span style=\"font-weight: bold\">(</span><span style=\"color: #008000; text-decoration-color: #008000\">'💚'</span>, <span style=\"color: #008080; text-decoration-color: #008080; font-weight: bold\">1040</span><span style=\"font-weight: bold\">)</span>\n",
       "<span style=\"font-weight: bold\">]</span>\n",
       "</pre>\n"
      ],
      "text/plain": [
       "\u001b[1m[\u001b[0m\n",
       "    \u001b[1m(\u001b[0m\u001b[32m'🙏'\u001b[0m, \u001b[1;36m5049\u001b[0m\u001b[1m)\u001b[0m,\n",
       "    \u001b[1m(\u001b[0m\u001b[32m'😂'\u001b[0m, \u001b[1;36m3072\u001b[0m\u001b[1m)\u001b[0m,\n",
       "    \u001b[1m(\u001b[0m\u001b[32m'🚜'\u001b[0m, \u001b[1;36m2972\u001b[0m\u001b[1m)\u001b[0m,\n",
       "    \u001b[1m(\u001b[0m\u001b[32m'🌾'\u001b[0m, \u001b[1;36m2182\u001b[0m\u001b[1m)\u001b[0m,\n",
       "    \u001b[1m(\u001b[0m\u001b[32m'🇮🇳'\u001b[0m, \u001b[1;36m2086\u001b[0m\u001b[1m)\u001b[0m,\n",
       "    \u001b[1m(\u001b[0m\u001b[32m'🤣'\u001b[0m, \u001b[1;36m1668\u001b[0m\u001b[1m)\u001b[0m,\n",
       "    \u001b[1m(\u001b[0m\u001b[32m'✊'\u001b[0m, \u001b[1;36m1651\u001b[0m\u001b[1m)\u001b[0m,\n",
       "    \u001b[1m(\u001b[0m\u001b[32m'❤️'\u001b[0m, \u001b[1;36m1382\u001b[0m\u001b[1m)\u001b[0m,\n",
       "    \u001b[1m(\u001b[0m\u001b[32m'🙏🏻'\u001b[0m, \u001b[1;36m1317\u001b[0m\u001b[1m)\u001b[0m,\n",
       "    \u001b[1m(\u001b[0m\u001b[32m'💚'\u001b[0m, \u001b[1;36m1040\u001b[0m\u001b[1m)\u001b[0m\n",
       "\u001b[1m]\u001b[0m\n"
      ]
     },
     "metadata": {},
     "output_type": "display_data"
    }
   ],
   "source": [
    "#Ejecutar la función\n",
    "resultados = q2_memory(file_path)\n",
    "\n",
    "#Mostrar resultados\n",
    "print(\"\\nRESULTADOS TIEMPO:\")\n",
    "print(resultados)"
   ]
  },
  {
   "cell_type": "markdown",
   "metadata": {},
   "source": [
    "Al utilizar `generators` y `Counter()` he observado que se ha reducido drasticamente el tiempo y la memoria. Con esto me doy cuenta que se puede optimizar utilizando otro tipo de estructuras en el challange de tiempo (q2_time)\n",
    "\n",
    "Tambien he observado que la memoria baja drasticamente al ejecutar el script y no hacerlo desde un notebook.\n",
    "\n",
    "```sh\n",
    "\n",
    "            📊 Métricas de Tiempo            \n",
    "┏━━━━━━━━━━━━━━━━━━━━━━━━┳━━━━━━━━━━━━━━━━━━┓\n",
    "┃ Fase                   ┃         Duración ┃\n",
    "┡━━━━━━━━━━━━━━━━━━━━━━━━╇━━━━━━━━━━━━━━━━━━┩\n",
    "│ Conexión y preparación │  1.0250 segundos │\n",
    "│ Lectura del archivo    │ 16.4122 segundos │\n",
    "│ Análisis y consulta    │  0.0002 segundos │\n",
    "│ TOTAL                  │ 18.4734 segundos │\n",
    "└────────────────────────┴──────────────────┘\n",
    "      💾 Métricas de Memoria (MB)       \n",
    "┏━━━━━━━━━━━━━━━━━━━━━┳━━━━━━━┳━━━━━━━━┓\n",
    "┃ Fase                ┃ Valor ┃      Δ ┃\n",
    "┡━━━━━━━━━━━━━━━━━━━━━╇━━━━━━━╇━━━━━━━━┩\n",
    "│ Memoria base        │ 55.99 │        │\n",
    "│ Después de conexión │  0.00 │ -55.99 │\n",
    "│ Después de lectura  │ 58.39 │ +58.39 │\n",
    "│ Después de consulta │ 58.40 │  +0.00 │\n",
    "│ Consumo máximo      │ 58.40 │        │\n",
    "└─────────────────────┴───────┴────────┘\n",
    "\n",
    "```"
   ]
  },
  {
   "cell_type": "markdown",
   "metadata": {},
   "source": [
    "# Q3"
   ]
  },
  {
   "cell_type": "markdown",
   "metadata": {},
   "source": [
    "## Time"
   ]
  },
  {
   "cell_type": "code",
   "execution_count": 13,
   "metadata": {},
   "outputs": [],
   "source": [
    "from q3_time import q3_time"
   ]
  },
  {
   "cell_type": "code",
   "execution_count": 14,
   "metadata": {},
   "outputs": [
    {
     "data": {
      "text/html": [
       "<pre style=\"white-space:pre;overflow-x:auto;line-height:normal;font-family:Menlo,'DejaVu Sans Mono',consolas,'Courier New',monospace\"><span style=\"font-style: italic\">           📊 </span><span style=\"font-weight: bold; font-style: italic\">Métricas de Tiempo</span><span style=\"font-style: italic\">            </span>\n",
       "┏━━━━━━━━━━━━━━━━━━━━━━━━┳━━━━━━━━━━━━━━━━━┓\n",
       "┃<span style=\"color: #800080; text-decoration-color: #800080; font-weight: bold\"> Fase                   </span>┃<span style=\"color: #800080; text-decoration-color: #800080; font-weight: bold\">        Duración </span>┃\n",
       "┡━━━━━━━━━━━━━━━━━━━━━━━━╇━━━━━━━━━━━━━━━━━┩\n",
       "│<span style=\"color: #008080; text-decoration-color: #008080\"> Conexión y preparación </span>│ 2.0754 segundos │\n",
       "│<span style=\"color: #008080; text-decoration-color: #008080\"> Lectura del archivo    </span>│ 2.4657 segundos │\n",
       "│<span style=\"color: #008080; text-decoration-color: #008080\"> Análisis y consulta    </span>│ 0.1038 segundos │\n",
       "│<span style=\"color: #008080; text-decoration-color: #008080\"> </span><span style=\"color: #008080; text-decoration-color: #008080; font-weight: bold\">TOTAL</span><span style=\"color: #008080; text-decoration-color: #008080\">                  </span>│ <span style=\"font-weight: bold\">6.7792 segundos</span> │\n",
       "└────────────────────────┴─────────────────┘\n",
       "</pre>\n"
      ],
      "text/plain": [
       "\u001b[3m           📊 \u001b[0m\u001b[1;3mMétricas de Tiempo\u001b[0m\u001b[3m            \u001b[0m\n",
       "┏━━━━━━━━━━━━━━━━━━━━━━━━┳━━━━━━━━━━━━━━━━━┓\n",
       "┃\u001b[1;35m \u001b[0m\u001b[1;35mFase                  \u001b[0m\u001b[1;35m \u001b[0m┃\u001b[1;35m \u001b[0m\u001b[1;35m       Duración\u001b[0m\u001b[1;35m \u001b[0m┃\n",
       "┡━━━━━━━━━━━━━━━━━━━━━━━━╇━━━━━━━━━━━━━━━━━┩\n",
       "│\u001b[36m \u001b[0m\u001b[36mConexión y preparación\u001b[0m\u001b[36m \u001b[0m│ 2.0754 segundos │\n",
       "│\u001b[36m \u001b[0m\u001b[36mLectura del archivo   \u001b[0m\u001b[36m \u001b[0m│ 2.4657 segundos │\n",
       "│\u001b[36m \u001b[0m\u001b[36mAnálisis y consulta   \u001b[0m\u001b[36m \u001b[0m│ 0.1038 segundos │\n",
       "│\u001b[36m \u001b[0m\u001b[1;36mTOTAL\u001b[0m\u001b[36m                 \u001b[0m\u001b[36m \u001b[0m│ \u001b[1m6.7792 segundos\u001b[0m │\n",
       "└────────────────────────┴─────────────────┘\n"
      ]
     },
     "metadata": {},
     "output_type": "display_data"
    },
    {
     "data": {
      "text/html": [
       "<pre style=\"white-space:pre;overflow-x:auto;line-height:normal;font-family:Menlo,'DejaVu Sans Mono',consolas,'Courier New',monospace\"><span style=\"font-style: italic\">       💾 </span><span style=\"font-weight: bold; font-style: italic\">Métricas de Memoria (MB)</span><span style=\"font-style: italic\">        </span>\n",
       "┏━━━━━━━━━━━━━━━━━━━━━┳━━━━━━━━┳━━━━━━━━━┓\n",
       "┃<span style=\"color: #000080; text-decoration-color: #000080; font-weight: bold\"> Fase                </span>┃<span style=\"color: #000080; text-decoration-color: #000080; font-weight: bold\">  Valor </span>┃<span style=\"color: #000080; text-decoration-color: #000080; font-weight: bold\">       Δ </span>┃\n",
       "┡━━━━━━━━━━━━━━━━━━━━━╇━━━━━━━━╇━━━━━━━━━┩\n",
       "│<span style=\"color: #008080; text-decoration-color: #008080\"> Memoria base        </span>│  45.01 │         │\n",
       "│<span style=\"color: #008080; text-decoration-color: #008080\"> Después de conexión </span>│  47.07 │   <span style=\"color: #008000; text-decoration-color: #008000\">+2.05</span> │\n",
       "│<span style=\"color: #008080; text-decoration-color: #008080\"> Después de lectura  </span>│ 565.20 │ <span style=\"color: #008000; text-decoration-color: #008000\">+518.13</span> │\n",
       "│<span style=\"color: #008080; text-decoration-color: #008080\"> Después de consulta </span>│ 563.71 │   <span style=\"color: #800000; text-decoration-color: #800000\">-1.49</span> │\n",
       "│<span style=\"color: #008080; text-decoration-color: #008080\"> </span><span style=\"color: #008080; text-decoration-color: #008080; font-weight: bold\">Consumo máximo</span><span style=\"color: #008080; text-decoration-color: #008080\">      </span>│ <span style=\"font-weight: bold\">565.20</span> │         │\n",
       "└─────────────────────┴────────┴─────────┘\n",
       "</pre>\n"
      ],
      "text/plain": [
       "\u001b[3m       💾 \u001b[0m\u001b[1;3mMétricas de Memoria (MB)\u001b[0m\u001b[3m        \u001b[0m\n",
       "┏━━━━━━━━━━━━━━━━━━━━━┳━━━━━━━━┳━━━━━━━━━┓\n",
       "┃\u001b[1;34m \u001b[0m\u001b[1;34mFase               \u001b[0m\u001b[1;34m \u001b[0m┃\u001b[1;34m \u001b[0m\u001b[1;34m Valor\u001b[0m\u001b[1;34m \u001b[0m┃\u001b[1;34m \u001b[0m\u001b[1;34m      Δ\u001b[0m\u001b[1;34m \u001b[0m┃\n",
       "┡━━━━━━━━━━━━━━━━━━━━━╇━━━━━━━━╇━━━━━━━━━┩\n",
       "│\u001b[36m \u001b[0m\u001b[36mMemoria base       \u001b[0m\u001b[36m \u001b[0m│  45.01 │         │\n",
       "│\u001b[36m \u001b[0m\u001b[36mDespués de conexión\u001b[0m\u001b[36m \u001b[0m│  47.07 │   \u001b[32m+2.05\u001b[0m │\n",
       "│\u001b[36m \u001b[0m\u001b[36mDespués de lectura \u001b[0m\u001b[36m \u001b[0m│ 565.20 │ \u001b[32m+518.13\u001b[0m │\n",
       "│\u001b[36m \u001b[0m\u001b[36mDespués de consulta\u001b[0m\u001b[36m \u001b[0m│ 563.71 │   \u001b[31m-1.49\u001b[0m │\n",
       "│\u001b[36m \u001b[0m\u001b[1;36mConsumo máximo\u001b[0m\u001b[36m     \u001b[0m\u001b[36m \u001b[0m│ \u001b[1m565.20\u001b[0m │         │\n",
       "└─────────────────────┴────────┴─────────┘\n"
      ]
     },
     "metadata": {},
     "output_type": "display_data"
    },
    {
     "data": {
      "text/html": [
       "<pre style=\"white-space:pre;overflow-x:auto;line-height:normal;font-family:Menlo,'DejaVu Sans Mono',consolas,'Courier New',monospace\">\n",
       "RESULTADOS TIEMPO:\n",
       "</pre>\n"
      ],
      "text/plain": [
       "\n",
       "RESULTADOS TIEMPO:\n"
      ]
     },
     "metadata": {},
     "output_type": "display_data"
    },
    {
     "data": {
      "text/html": [
       "<pre style=\"white-space:pre;overflow-x:auto;line-height:normal;font-family:Menlo,'DejaVu Sans Mono',consolas,'Courier New',monospace\"><span style=\"font-weight: bold\">[</span>\n",
       "    <span style=\"font-weight: bold\">(</span><span style=\"color: #008000; text-decoration-color: #008000\">'narendramodi'</span>, <span style=\"color: #008080; text-decoration-color: #008080; font-weight: bold\">2265</span><span style=\"font-weight: bold\">)</span>,\n",
       "    <span style=\"font-weight: bold\">(</span><span style=\"color: #008000; text-decoration-color: #008000\">'Kisanektamorcha'</span>, <span style=\"color: #008080; text-decoration-color: #008080; font-weight: bold\">1840</span><span style=\"font-weight: bold\">)</span>,\n",
       "    <span style=\"font-weight: bold\">(</span><span style=\"color: #008000; text-decoration-color: #008000\">'RakeshTikaitBKU'</span>, <span style=\"color: #008080; text-decoration-color: #008080; font-weight: bold\">1644</span><span style=\"font-weight: bold\">)</span>,\n",
       "    <span style=\"font-weight: bold\">(</span><span style=\"color: #008000; text-decoration-color: #008000\">'PMOIndia'</span>, <span style=\"color: #008080; text-decoration-color: #008080; font-weight: bold\">1427</span><span style=\"font-weight: bold\">)</span>,\n",
       "    <span style=\"font-weight: bold\">(</span><span style=\"color: #008000; text-decoration-color: #008000\">'RahulGandhi'</span>, <span style=\"color: #008080; text-decoration-color: #008080; font-weight: bold\">1146</span><span style=\"font-weight: bold\">)</span>,\n",
       "    <span style=\"font-weight: bold\">(</span><span style=\"color: #008000; text-decoration-color: #008000\">'GretaThunberg'</span>, <span style=\"color: #008080; text-decoration-color: #008080; font-weight: bold\">1048</span><span style=\"font-weight: bold\">)</span>,\n",
       "    <span style=\"font-weight: bold\">(</span><span style=\"color: #008000; text-decoration-color: #008000\">'RaviSinghKA'</span>, <span style=\"color: #008080; text-decoration-color: #008080; font-weight: bold\">1019</span><span style=\"font-weight: bold\">)</span>,\n",
       "    <span style=\"font-weight: bold\">(</span><span style=\"color: #008000; text-decoration-color: #008000\">'rihanna'</span>, <span style=\"color: #008080; text-decoration-color: #008080; font-weight: bold\">986</span><span style=\"font-weight: bold\">)</span>,\n",
       "    <span style=\"font-weight: bold\">(</span><span style=\"color: #008000; text-decoration-color: #008000\">'UNHumanRights'</span>, <span style=\"color: #008080; text-decoration-color: #008080; font-weight: bold\">962</span><span style=\"font-weight: bold\">)</span>,\n",
       "    <span style=\"font-weight: bold\">(</span><span style=\"color: #008000; text-decoration-color: #008000\">'meenaharris'</span>, <span style=\"color: #008080; text-decoration-color: #008080; font-weight: bold\">926</span><span style=\"font-weight: bold\">)</span>\n",
       "<span style=\"font-weight: bold\">]</span>\n",
       "</pre>\n"
      ],
      "text/plain": [
       "\u001b[1m[\u001b[0m\n",
       "    \u001b[1m(\u001b[0m\u001b[32m'narendramodi'\u001b[0m, \u001b[1;36m2265\u001b[0m\u001b[1m)\u001b[0m,\n",
       "    \u001b[1m(\u001b[0m\u001b[32m'Kisanektamorcha'\u001b[0m, \u001b[1;36m1840\u001b[0m\u001b[1m)\u001b[0m,\n",
       "    \u001b[1m(\u001b[0m\u001b[32m'RakeshTikaitBKU'\u001b[0m, \u001b[1;36m1644\u001b[0m\u001b[1m)\u001b[0m,\n",
       "    \u001b[1m(\u001b[0m\u001b[32m'PMOIndia'\u001b[0m, \u001b[1;36m1427\u001b[0m\u001b[1m)\u001b[0m,\n",
       "    \u001b[1m(\u001b[0m\u001b[32m'RahulGandhi'\u001b[0m, \u001b[1;36m1146\u001b[0m\u001b[1m)\u001b[0m,\n",
       "    \u001b[1m(\u001b[0m\u001b[32m'GretaThunberg'\u001b[0m, \u001b[1;36m1048\u001b[0m\u001b[1m)\u001b[0m,\n",
       "    \u001b[1m(\u001b[0m\u001b[32m'RaviSinghKA'\u001b[0m, \u001b[1;36m1019\u001b[0m\u001b[1m)\u001b[0m,\n",
       "    \u001b[1m(\u001b[0m\u001b[32m'rihanna'\u001b[0m, \u001b[1;36m986\u001b[0m\u001b[1m)\u001b[0m,\n",
       "    \u001b[1m(\u001b[0m\u001b[32m'UNHumanRights'\u001b[0m, \u001b[1;36m962\u001b[0m\u001b[1m)\u001b[0m,\n",
       "    \u001b[1m(\u001b[0m\u001b[32m'meenaharris'\u001b[0m, \u001b[1;36m926\u001b[0m\u001b[1m)\u001b[0m\n",
       "\u001b[1m]\u001b[0m\n"
      ]
     },
     "metadata": {},
     "output_type": "display_data"
    }
   ],
   "source": [
    "#Ejecutar la función\n",
    "resultados = q3_time(file_path)\n",
    "\n",
    "#Mostrar resultados\n",
    "print(\"\\nRESULTADOS TIEMPO:\")\n",
    "print(resultados)"
   ]
  },
  {
   "cell_type": "markdown",
   "metadata": {},
   "source": [
    "Manteniendo el uso de Duckdb para el analisis y optimizacion por tiempo en este caso al no estar con tipos de datos que pueden ser complejos de procesar (como los emojis) el tiempo para realizar la consulta baja drasticamente. Los cuellos de botellas se estan generando en la \n",
    "- conexion y preparacion\n",
    "- lectura del archivo\n",
    "\n",
    "Ejecutar el script directamente sin utilizar este notebook no modifica significativamente el tiempo, pero si se ve disminuido el uso de memoria\n",
    "\n",
    "```sh\n",
    "\n",
    "           📊 Métricas de Tiempo            \n",
    "┏━━━━━━━━━━━━━━━━━━━━━━━━┳━━━━━━━━━━━━━━━━━┓\n",
    "┃ Fase                   ┃        Duración ┃\n",
    "┡━━━━━━━━━━━━━━━━━━━━━━━━╇━━━━━━━━━━━━━━━━━┩\n",
    "│ Conexión y preparación │ 2.0955 segundos │\n",
    "│ Lectura del archivo    │ 2.1758 segundos │\n",
    "│ Análisis y consulta    │ 0.0921 segundos │\n",
    "│ TOTAL                  │ 6.4876 segundos │\n",
    "└────────────────────────┴─────────────────┘\n",
    "       💾 Métricas de Memoria (MB)        \n",
    "┏━━━━━━━━━━━━━━━━━━━━━┳━━━━━━━━┳━━━━━━━━━┓\n",
    "┃ Fase                ┃  Valor ┃       Δ ┃\n",
    "┡━━━━━━━━━━━━━━━━━━━━━╇━━━━━━━━╇━━━━━━━━━┩\n",
    "│ Memoria base        │  56.00 │         │\n",
    "│ Después de conexión │  63.26 │   +7.26 │\n",
    "│ Después de lectura  │ 542.67 │ +479.41 │\n",
    "│ Después de consulta │ 543.28 │   +0.61 │\n",
    "│ Consumo máximo      │ 543.28 │         │\n",
    "└─────────────────────┴────────┴─────────┘\n",
    "\n",
    "```"
   ]
  },
  {
   "cell_type": "markdown",
   "metadata": {},
   "source": [
    "## Memory"
   ]
  }
 ],
 "metadata": {
  "kernelspec": {
   "display_name": ".venv",
   "language": "python",
   "name": "python3"
  },
  "language_info": {
   "codemirror_mode": {
    "name": "ipython",
    "version": 3
   },
   "file_extension": ".py",
   "mimetype": "text/x-python",
   "name": "python",
   "nbconvert_exporter": "python",
   "pygments_lexer": "ipython3",
   "version": "3.13.0"
  },
  "orig_nbformat": 4
 },
 "nbformat": 4,
 "nbformat_minor": 2
}
